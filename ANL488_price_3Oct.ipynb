{
  "nbformat": 4,
  "nbformat_minor": 0,
  "metadata": {
    "colab": {
      "provenance": [],
      "include_colab_link": true
    },
    "kernelspec": {
      "name": "python3",
      "display_name": "Python 3"
    },
    "language_info": {
      "name": "python"
    },
    "widgets": {
      "application/vnd.jupyter.widget-state+json": {
        "c72b280b7fb948ef96f02ceeb0d0b7cf": {
          "model_module": "@jupyter-widgets/controls",
          "model_name": "HBoxModel",
          "model_module_version": "1.5.0",
          "state": {
            "_dom_classes": [],
            "_model_module": "@jupyter-widgets/controls",
            "_model_module_version": "1.5.0",
            "_model_name": "HBoxModel",
            "_view_count": null,
            "_view_module": "@jupyter-widgets/controls",
            "_view_module_version": "1.5.0",
            "_view_name": "HBoxView",
            "box_style": "",
            "children": [
              "IPY_MODEL_2c4e000dd9eb4b629f7f72f224ad238a",
              "IPY_MODEL_c1307f1bb4fa478f85105e8c353a9aba",
              "IPY_MODEL_e5166811a5dc4905bafa5c71118d2fc9"
            ],
            "layout": "IPY_MODEL_d6fee6a991b84806b91537d26ecf63bc"
          }
        },
        "2c4e000dd9eb4b629f7f72f224ad238a": {
          "model_module": "@jupyter-widgets/controls",
          "model_name": "HTMLModel",
          "model_module_version": "1.5.0",
          "state": {
            "_dom_classes": [],
            "_model_module": "@jupyter-widgets/controls",
            "_model_module_version": "1.5.0",
            "_model_name": "HTMLModel",
            "_view_count": null,
            "_view_module": "@jupyter-widgets/controls",
            "_view_module_version": "1.5.0",
            "_view_name": "HTMLView",
            "description": "",
            "description_tooltip": null,
            "layout": "IPY_MODEL_9c9895da21e947ac8b3a7c43837194d9",
            "placeholder": "​",
            "style": "IPY_MODEL_5337333cbf014a979d874538b5de0374",
            "value": "Processing: 100%"
          }
        },
        "c1307f1bb4fa478f85105e8c353a9aba": {
          "model_module": "@jupyter-widgets/controls",
          "model_name": "FloatProgressModel",
          "model_module_version": "1.5.0",
          "state": {
            "_dom_classes": [],
            "_model_module": "@jupyter-widgets/controls",
            "_model_module_version": "1.5.0",
            "_model_name": "FloatProgressModel",
            "_view_count": null,
            "_view_module": "@jupyter-widgets/controls",
            "_view_module_version": "1.5.0",
            "_view_name": "ProgressView",
            "bar_style": "",
            "description": "",
            "description_tooltip": null,
            "layout": "IPY_MODEL_dbebe50956c54ff4a59f63b6ffe2b4b3",
            "max": 83,
            "min": 0,
            "orientation": "horizontal",
            "style": "IPY_MODEL_2701b3afd32f42ccaea9c3c42a58b5b5",
            "value": 83
          }
        },
        "e5166811a5dc4905bafa5c71118d2fc9": {
          "model_module": "@jupyter-widgets/controls",
          "model_name": "HTMLModel",
          "model_module_version": "1.5.0",
          "state": {
            "_dom_classes": [],
            "_model_module": "@jupyter-widgets/controls",
            "_model_module_version": "1.5.0",
            "_model_name": "HTMLModel",
            "_view_count": null,
            "_view_module": "@jupyter-widgets/controls",
            "_view_module_version": "1.5.0",
            "_view_name": "HTMLView",
            "description": "",
            "description_tooltip": null,
            "layout": "IPY_MODEL_9c047c64abec462eb665a8d1aab4a66f",
            "placeholder": "​",
            "style": "IPY_MODEL_c4f2d6eb1fb144ddaa4a286689c07bf1",
            "value": " 83/83 [00:41&lt;00:00,  2.84it/s]"
          }
        },
        "d6fee6a991b84806b91537d26ecf63bc": {
          "model_module": "@jupyter-widgets/base",
          "model_name": "LayoutModel",
          "model_module_version": "1.2.0",
          "state": {
            "_model_module": "@jupyter-widgets/base",
            "_model_module_version": "1.2.0",
            "_model_name": "LayoutModel",
            "_view_count": null,
            "_view_module": "@jupyter-widgets/base",
            "_view_module_version": "1.2.0",
            "_view_name": "LayoutView",
            "align_content": null,
            "align_items": null,
            "align_self": null,
            "border": null,
            "bottom": null,
            "display": null,
            "flex": null,
            "flex_flow": null,
            "grid_area": null,
            "grid_auto_columns": null,
            "grid_auto_flow": null,
            "grid_auto_rows": null,
            "grid_column": null,
            "grid_gap": null,
            "grid_row": null,
            "grid_template_areas": null,
            "grid_template_columns": null,
            "grid_template_rows": null,
            "height": null,
            "justify_content": null,
            "justify_items": null,
            "left": null,
            "margin": null,
            "max_height": null,
            "max_width": null,
            "min_height": null,
            "min_width": null,
            "object_fit": null,
            "object_position": null,
            "order": null,
            "overflow": null,
            "overflow_x": null,
            "overflow_y": null,
            "padding": null,
            "right": null,
            "top": null,
            "visibility": "hidden",
            "width": null
          }
        },
        "9c9895da21e947ac8b3a7c43837194d9": {
          "model_module": "@jupyter-widgets/base",
          "model_name": "LayoutModel",
          "model_module_version": "1.2.0",
          "state": {
            "_model_module": "@jupyter-widgets/base",
            "_model_module_version": "1.2.0",
            "_model_name": "LayoutModel",
            "_view_count": null,
            "_view_module": "@jupyter-widgets/base",
            "_view_module_version": "1.2.0",
            "_view_name": "LayoutView",
            "align_content": null,
            "align_items": null,
            "align_self": null,
            "border": null,
            "bottom": null,
            "display": null,
            "flex": null,
            "flex_flow": null,
            "grid_area": null,
            "grid_auto_columns": null,
            "grid_auto_flow": null,
            "grid_auto_rows": null,
            "grid_column": null,
            "grid_gap": null,
            "grid_row": null,
            "grid_template_areas": null,
            "grid_template_columns": null,
            "grid_template_rows": null,
            "height": null,
            "justify_content": null,
            "justify_items": null,
            "left": null,
            "margin": null,
            "max_height": null,
            "max_width": null,
            "min_height": null,
            "min_width": null,
            "object_fit": null,
            "object_position": null,
            "order": null,
            "overflow": null,
            "overflow_x": null,
            "overflow_y": null,
            "padding": null,
            "right": null,
            "top": null,
            "visibility": null,
            "width": null
          }
        },
        "5337333cbf014a979d874538b5de0374": {
          "model_module": "@jupyter-widgets/controls",
          "model_name": "DescriptionStyleModel",
          "model_module_version": "1.5.0",
          "state": {
            "_model_module": "@jupyter-widgets/controls",
            "_model_module_version": "1.5.0",
            "_model_name": "DescriptionStyleModel",
            "_view_count": null,
            "_view_module": "@jupyter-widgets/base",
            "_view_module_version": "1.2.0",
            "_view_name": "StyleView",
            "description_width": ""
          }
        },
        "dbebe50956c54ff4a59f63b6ffe2b4b3": {
          "model_module": "@jupyter-widgets/base",
          "model_name": "LayoutModel",
          "model_module_version": "1.2.0",
          "state": {
            "_model_module": "@jupyter-widgets/base",
            "_model_module_version": "1.2.0",
            "_model_name": "LayoutModel",
            "_view_count": null,
            "_view_module": "@jupyter-widgets/base",
            "_view_module_version": "1.2.0",
            "_view_name": "LayoutView",
            "align_content": null,
            "align_items": null,
            "align_self": null,
            "border": null,
            "bottom": null,
            "display": null,
            "flex": null,
            "flex_flow": null,
            "grid_area": null,
            "grid_auto_columns": null,
            "grid_auto_flow": null,
            "grid_auto_rows": null,
            "grid_column": null,
            "grid_gap": null,
            "grid_row": null,
            "grid_template_areas": null,
            "grid_template_columns": null,
            "grid_template_rows": null,
            "height": null,
            "justify_content": null,
            "justify_items": null,
            "left": null,
            "margin": null,
            "max_height": null,
            "max_width": null,
            "min_height": null,
            "min_width": null,
            "object_fit": null,
            "object_position": null,
            "order": null,
            "overflow": null,
            "overflow_x": null,
            "overflow_y": null,
            "padding": null,
            "right": null,
            "top": null,
            "visibility": null,
            "width": null
          }
        },
        "2701b3afd32f42ccaea9c3c42a58b5b5": {
          "model_module": "@jupyter-widgets/controls",
          "model_name": "ProgressStyleModel",
          "model_module_version": "1.5.0",
          "state": {
            "_model_module": "@jupyter-widgets/controls",
            "_model_module_version": "1.5.0",
            "_model_name": "ProgressStyleModel",
            "_view_count": null,
            "_view_module": "@jupyter-widgets/base",
            "_view_module_version": "1.2.0",
            "_view_name": "StyleView",
            "bar_color": null,
            "description_width": ""
          }
        },
        "9c047c64abec462eb665a8d1aab4a66f": {
          "model_module": "@jupyter-widgets/base",
          "model_name": "LayoutModel",
          "model_module_version": "1.2.0",
          "state": {
            "_model_module": "@jupyter-widgets/base",
            "_model_module_version": "1.2.0",
            "_model_name": "LayoutModel",
            "_view_count": null,
            "_view_module": "@jupyter-widgets/base",
            "_view_module_version": "1.2.0",
            "_view_name": "LayoutView",
            "align_content": null,
            "align_items": null,
            "align_self": null,
            "border": null,
            "bottom": null,
            "display": null,
            "flex": null,
            "flex_flow": null,
            "grid_area": null,
            "grid_auto_columns": null,
            "grid_auto_flow": null,
            "grid_auto_rows": null,
            "grid_column": null,
            "grid_gap": null,
            "grid_row": null,
            "grid_template_areas": null,
            "grid_template_columns": null,
            "grid_template_rows": null,
            "height": null,
            "justify_content": null,
            "justify_items": null,
            "left": null,
            "margin": null,
            "max_height": null,
            "max_width": null,
            "min_height": null,
            "min_width": null,
            "object_fit": null,
            "object_position": null,
            "order": null,
            "overflow": null,
            "overflow_x": null,
            "overflow_y": null,
            "padding": null,
            "right": null,
            "top": null,
            "visibility": null,
            "width": null
          }
        },
        "c4f2d6eb1fb144ddaa4a286689c07bf1": {
          "model_module": "@jupyter-widgets/controls",
          "model_name": "DescriptionStyleModel",
          "model_module_version": "1.5.0",
          "state": {
            "_model_module": "@jupyter-widgets/controls",
            "_model_module_version": "1.5.0",
            "_model_name": "DescriptionStyleModel",
            "_view_count": null,
            "_view_module": "@jupyter-widgets/base",
            "_view_module_version": "1.2.0",
            "_view_name": "StyleView",
            "description_width": ""
          }
        },
        "a9c9aabb52c249d396d2d0cb62b2ec66": {
          "model_module": "@jupyter-widgets/controls",
          "model_name": "HBoxModel",
          "model_module_version": "1.5.0",
          "state": {
            "_dom_classes": [],
            "_model_module": "@jupyter-widgets/controls",
            "_model_module_version": "1.5.0",
            "_model_name": "HBoxModel",
            "_view_count": null,
            "_view_module": "@jupyter-widgets/controls",
            "_view_module_version": "1.5.0",
            "_view_name": "HBoxView",
            "box_style": "",
            "children": [
              "IPY_MODEL_8cddd5f26ab74875a2209a1f82ea908d",
              "IPY_MODEL_285d84ec7d0340739a22717879491a64",
              "IPY_MODEL_dc62380f5a71453295ef9096054db612"
            ],
            "layout": "IPY_MODEL_ea54b0f8a536485bbdc1c30f86725591"
          }
        },
        "8cddd5f26ab74875a2209a1f82ea908d": {
          "model_module": "@jupyter-widgets/controls",
          "model_name": "HTMLModel",
          "model_module_version": "1.5.0",
          "state": {
            "_dom_classes": [],
            "_model_module": "@jupyter-widgets/controls",
            "_model_module_version": "1.5.0",
            "_model_name": "HTMLModel",
            "_view_count": null,
            "_view_module": "@jupyter-widgets/controls",
            "_view_module_version": "1.5.0",
            "_view_name": "HTMLView",
            "description": "",
            "description_tooltip": null,
            "layout": "IPY_MODEL_df0fc4b7dec0491b8434ac995997ee92",
            "placeholder": "​",
            "style": "IPY_MODEL_b45a247810804883a6a861ad903d87c1",
            "value": "Processing:   0%"
          }
        },
        "285d84ec7d0340739a22717879491a64": {
          "model_module": "@jupyter-widgets/controls",
          "model_name": "FloatProgressModel",
          "model_module_version": "1.5.0",
          "state": {
            "_dom_classes": [],
            "_model_module": "@jupyter-widgets/controls",
            "_model_module_version": "1.5.0",
            "_model_name": "FloatProgressModel",
            "_view_count": null,
            "_view_module": "@jupyter-widgets/controls",
            "_view_module_version": "1.5.0",
            "_view_name": "ProgressView",
            "bar_style": "",
            "description": "",
            "description_tooltip": null,
            "layout": "IPY_MODEL_e1505e9daf484971855388056639cb83",
            "max": 7,
            "min": 0,
            "orientation": "horizontal",
            "style": "IPY_MODEL_bc88c11df0234ec4a8bc136e63dd6879",
            "value": 7
          }
        },
        "dc62380f5a71453295ef9096054db612": {
          "model_module": "@jupyter-widgets/controls",
          "model_name": "HTMLModel",
          "model_module_version": "1.5.0",
          "state": {
            "_dom_classes": [],
            "_model_module": "@jupyter-widgets/controls",
            "_model_module_version": "1.5.0",
            "_model_name": "HTMLModel",
            "_view_count": null,
            "_view_module": "@jupyter-widgets/controls",
            "_view_module_version": "1.5.0",
            "_view_name": "HTMLView",
            "description": "",
            "description_tooltip": null,
            "layout": "IPY_MODEL_cb5b30b1a9694200aca49021e3f11069",
            "placeholder": "​",
            "style": "IPY_MODEL_14ad6b2f192d48ebafceac12b9e7daa7",
            "value": " 0/7 [00:00&lt;?, ?it/s]"
          }
        },
        "ea54b0f8a536485bbdc1c30f86725591": {
          "model_module": "@jupyter-widgets/base",
          "model_name": "LayoutModel",
          "model_module_version": "1.2.0",
          "state": {
            "_model_module": "@jupyter-widgets/base",
            "_model_module_version": "1.2.0",
            "_model_name": "LayoutModel",
            "_view_count": null,
            "_view_module": "@jupyter-widgets/base",
            "_view_module_version": "1.2.0",
            "_view_name": "LayoutView",
            "align_content": null,
            "align_items": null,
            "align_self": null,
            "border": null,
            "bottom": null,
            "display": null,
            "flex": null,
            "flex_flow": null,
            "grid_area": null,
            "grid_auto_columns": null,
            "grid_auto_flow": null,
            "grid_auto_rows": null,
            "grid_column": null,
            "grid_gap": null,
            "grid_row": null,
            "grid_template_areas": null,
            "grid_template_columns": null,
            "grid_template_rows": null,
            "height": null,
            "justify_content": null,
            "justify_items": null,
            "left": null,
            "margin": null,
            "max_height": null,
            "max_width": null,
            "min_height": null,
            "min_width": null,
            "object_fit": null,
            "object_position": null,
            "order": null,
            "overflow": null,
            "overflow_x": null,
            "overflow_y": null,
            "padding": null,
            "right": null,
            "top": null,
            "visibility": "hidden",
            "width": null
          }
        },
        "df0fc4b7dec0491b8434ac995997ee92": {
          "model_module": "@jupyter-widgets/base",
          "model_name": "LayoutModel",
          "model_module_version": "1.2.0",
          "state": {
            "_model_module": "@jupyter-widgets/base",
            "_model_module_version": "1.2.0",
            "_model_name": "LayoutModel",
            "_view_count": null,
            "_view_module": "@jupyter-widgets/base",
            "_view_module_version": "1.2.0",
            "_view_name": "LayoutView",
            "align_content": null,
            "align_items": null,
            "align_self": null,
            "border": null,
            "bottom": null,
            "display": null,
            "flex": null,
            "flex_flow": null,
            "grid_area": null,
            "grid_auto_columns": null,
            "grid_auto_flow": null,
            "grid_auto_rows": null,
            "grid_column": null,
            "grid_gap": null,
            "grid_row": null,
            "grid_template_areas": null,
            "grid_template_columns": null,
            "grid_template_rows": null,
            "height": null,
            "justify_content": null,
            "justify_items": null,
            "left": null,
            "margin": null,
            "max_height": null,
            "max_width": null,
            "min_height": null,
            "min_width": null,
            "object_fit": null,
            "object_position": null,
            "order": null,
            "overflow": null,
            "overflow_x": null,
            "overflow_y": null,
            "padding": null,
            "right": null,
            "top": null,
            "visibility": null,
            "width": null
          }
        },
        "b45a247810804883a6a861ad903d87c1": {
          "model_module": "@jupyter-widgets/controls",
          "model_name": "DescriptionStyleModel",
          "model_module_version": "1.5.0",
          "state": {
            "_model_module": "@jupyter-widgets/controls",
            "_model_module_version": "1.5.0",
            "_model_name": "DescriptionStyleModel",
            "_view_count": null,
            "_view_module": "@jupyter-widgets/base",
            "_view_module_version": "1.2.0",
            "_view_name": "StyleView",
            "description_width": ""
          }
        },
        "e1505e9daf484971855388056639cb83": {
          "model_module": "@jupyter-widgets/base",
          "model_name": "LayoutModel",
          "model_module_version": "1.2.0",
          "state": {
            "_model_module": "@jupyter-widgets/base",
            "_model_module_version": "1.2.0",
            "_model_name": "LayoutModel",
            "_view_count": null,
            "_view_module": "@jupyter-widgets/base",
            "_view_module_version": "1.2.0",
            "_view_name": "LayoutView",
            "align_content": null,
            "align_items": null,
            "align_self": null,
            "border": null,
            "bottom": null,
            "display": null,
            "flex": null,
            "flex_flow": null,
            "grid_area": null,
            "grid_auto_columns": null,
            "grid_auto_flow": null,
            "grid_auto_rows": null,
            "grid_column": null,
            "grid_gap": null,
            "grid_row": null,
            "grid_template_areas": null,
            "grid_template_columns": null,
            "grid_template_rows": null,
            "height": null,
            "justify_content": null,
            "justify_items": null,
            "left": null,
            "margin": null,
            "max_height": null,
            "max_width": null,
            "min_height": null,
            "min_width": null,
            "object_fit": null,
            "object_position": null,
            "order": null,
            "overflow": null,
            "overflow_x": null,
            "overflow_y": null,
            "padding": null,
            "right": null,
            "top": null,
            "visibility": null,
            "width": null
          }
        },
        "bc88c11df0234ec4a8bc136e63dd6879": {
          "model_module": "@jupyter-widgets/controls",
          "model_name": "ProgressStyleModel",
          "model_module_version": "1.5.0",
          "state": {
            "_model_module": "@jupyter-widgets/controls",
            "_model_module_version": "1.5.0",
            "_model_name": "ProgressStyleModel",
            "_view_count": null,
            "_view_module": "@jupyter-widgets/base",
            "_view_module_version": "1.2.0",
            "_view_name": "StyleView",
            "bar_color": null,
            "description_width": ""
          }
        },
        "cb5b30b1a9694200aca49021e3f11069": {
          "model_module": "@jupyter-widgets/base",
          "model_name": "LayoutModel",
          "model_module_version": "1.2.0",
          "state": {
            "_model_module": "@jupyter-widgets/base",
            "_model_module_version": "1.2.0",
            "_model_name": "LayoutModel",
            "_view_count": null,
            "_view_module": "@jupyter-widgets/base",
            "_view_module_version": "1.2.0",
            "_view_name": "LayoutView",
            "align_content": null,
            "align_items": null,
            "align_self": null,
            "border": null,
            "bottom": null,
            "display": null,
            "flex": null,
            "flex_flow": null,
            "grid_area": null,
            "grid_auto_columns": null,
            "grid_auto_flow": null,
            "grid_auto_rows": null,
            "grid_column": null,
            "grid_gap": null,
            "grid_row": null,
            "grid_template_areas": null,
            "grid_template_columns": null,
            "grid_template_rows": null,
            "height": null,
            "justify_content": null,
            "justify_items": null,
            "left": null,
            "margin": null,
            "max_height": null,
            "max_width": null,
            "min_height": null,
            "min_width": null,
            "object_fit": null,
            "object_position": null,
            "order": null,
            "overflow": null,
            "overflow_x": null,
            "overflow_y": null,
            "padding": null,
            "right": null,
            "top": null,
            "visibility": null,
            "width": null
          }
        },
        "14ad6b2f192d48ebafceac12b9e7daa7": {
          "model_module": "@jupyter-widgets/controls",
          "model_name": "DescriptionStyleModel",
          "model_module_version": "1.5.0",
          "state": {
            "_model_module": "@jupyter-widgets/controls",
            "_model_module_version": "1.5.0",
            "_model_name": "DescriptionStyleModel",
            "_view_count": null,
            "_view_module": "@jupyter-widgets/base",
            "_view_module_version": "1.2.0",
            "_view_name": "StyleView",
            "description_width": ""
          }
        },
        "2e7aea56100148aabc98450ada4a5770": {
          "model_module": "@jupyter-widgets/base",
          "model_name": "LayoutModel",
          "model_module_version": "1.2.0",
          "state": {
            "_model_module": "@jupyter-widgets/base",
            "_model_module_version": "1.2.0",
            "_model_name": "LayoutModel",
            "_view_count": null,
            "_view_module": "@jupyter-widgets/base",
            "_view_module_version": "1.2.0",
            "_view_name": "LayoutView",
            "align_content": null,
            "align_items": null,
            "align_self": null,
            "border": null,
            "bottom": null,
            "display": null,
            "flex": null,
            "flex_flow": null,
            "grid_area": null,
            "grid_auto_columns": null,
            "grid_auto_flow": null,
            "grid_auto_rows": null,
            "grid_column": null,
            "grid_gap": null,
            "grid_row": null,
            "grid_template_areas": null,
            "grid_template_columns": null,
            "grid_template_rows": null,
            "height": null,
            "justify_content": null,
            "justify_items": null,
            "left": null,
            "margin": null,
            "max_height": null,
            "max_width": null,
            "min_height": null,
            "min_width": null,
            "object_fit": null,
            "object_position": null,
            "order": null,
            "overflow": null,
            "overflow_x": null,
            "overflow_y": null,
            "padding": null,
            "right": null,
            "top": null,
            "visibility": null,
            "width": null
          }
        },
        "d72eb98830c64b77bf873926dfa7b71c": {
          "model_module": "@jupyter-widgets/controls",
          "model_name": "ProgressStyleModel",
          "model_module_version": "1.5.0",
          "state": {
            "_model_module": "@jupyter-widgets/controls",
            "_model_module_version": "1.5.0",
            "_model_name": "ProgressStyleModel",
            "_view_count": null,
            "_view_module": "@jupyter-widgets/base",
            "_view_module_version": "1.2.0",
            "_view_name": "StyleView",
            "bar_color": null,
            "description_width": ""
          }
        },
        "f492e71c00514c22a7f5fa504440a0da": {
          "model_module": "@jupyter-widgets/base",
          "model_name": "LayoutModel",
          "model_module_version": "1.2.0",
          "state": {
            "_model_module": "@jupyter-widgets/base",
            "_model_module_version": "1.2.0",
            "_model_name": "LayoutModel",
            "_view_count": null,
            "_view_module": "@jupyter-widgets/base",
            "_view_module_version": "1.2.0",
            "_view_name": "LayoutView",
            "align_content": null,
            "align_items": null,
            "align_self": null,
            "border": null,
            "bottom": null,
            "display": null,
            "flex": null,
            "flex_flow": null,
            "grid_area": null,
            "grid_auto_columns": null,
            "grid_auto_flow": null,
            "grid_auto_rows": null,
            "grid_column": null,
            "grid_gap": null,
            "grid_row": null,
            "grid_template_areas": null,
            "grid_template_columns": null,
            "grid_template_rows": null,
            "height": null,
            "justify_content": null,
            "justify_items": null,
            "left": null,
            "margin": null,
            "max_height": null,
            "max_width": null,
            "min_height": null,
            "min_width": null,
            "object_fit": null,
            "object_position": null,
            "order": null,
            "overflow": null,
            "overflow_x": null,
            "overflow_y": null,
            "padding": null,
            "right": null,
            "top": null,
            "visibility": null,
            "width": null
          }
        },
        "92555d0ccd8649e28e0f32843ee74a4d": {
          "model_module": "@jupyter-widgets/controls",
          "model_name": "DescriptionStyleModel",
          "model_module_version": "1.5.0",
          "state": {
            "_model_module": "@jupyter-widgets/controls",
            "_model_module_version": "1.5.0",
            "_model_name": "DescriptionStyleModel",
            "_view_count": null,
            "_view_module": "@jupyter-widgets/base",
            "_view_module_version": "1.2.0",
            "_view_name": "StyleView",
            "description_width": ""
          }
        },
        "8c05be98ae55491d8cf194d8a912f0de": {
          "model_module": "@jupyter-widgets/base",
          "model_name": "LayoutModel",
          "model_module_version": "1.2.0",
          "state": {
            "_model_module": "@jupyter-widgets/base",
            "_model_module_version": "1.2.0",
            "_model_name": "LayoutModel",
            "_view_count": null,
            "_view_module": "@jupyter-widgets/base",
            "_view_module_version": "1.2.0",
            "_view_name": "LayoutView",
            "align_content": null,
            "align_items": null,
            "align_self": null,
            "border": null,
            "bottom": null,
            "display": null,
            "flex": null,
            "flex_flow": null,
            "grid_area": null,
            "grid_auto_columns": null,
            "grid_auto_flow": null,
            "grid_auto_rows": null,
            "grid_column": null,
            "grid_gap": null,
            "grid_row": null,
            "grid_template_areas": null,
            "grid_template_columns": null,
            "grid_template_rows": null,
            "height": null,
            "justify_content": null,
            "justify_items": null,
            "left": null,
            "margin": null,
            "max_height": null,
            "max_width": null,
            "min_height": null,
            "min_width": null,
            "object_fit": null,
            "object_position": null,
            "order": null,
            "overflow": null,
            "overflow_x": null,
            "overflow_y": null,
            "padding": null,
            "right": null,
            "top": null,
            "visibility": null,
            "width": null
          }
        },
        "c94dd51024bc43e8ba1fee676f317413": {
          "model_module": "@jupyter-widgets/controls",
          "model_name": "DescriptionStyleModel",
          "model_module_version": "1.5.0",
          "state": {
            "_model_module": "@jupyter-widgets/controls",
            "_model_module_version": "1.5.0",
            "_model_name": "DescriptionStyleModel",
            "_view_count": null,
            "_view_module": "@jupyter-widgets/base",
            "_view_module_version": "1.2.0",
            "_view_name": "StyleView",
            "description_width": ""
          }
        },
        "aaafb625fc584763bcf19de316907152": {
          "model_module": "@jupyter-widgets/controls",
          "model_name": "HTMLModel",
          "model_module_version": "1.5.0",
          "state": {
            "_dom_classes": [],
            "_model_module": "@jupyter-widgets/controls",
            "_model_module_version": "1.5.0",
            "_model_name": "HTMLModel",
            "_view_count": null,
            "_view_module": "@jupyter-widgets/controls",
            "_view_module_version": "1.5.0",
            "_view_name": "HTMLView",
            "description": "",
            "description_tooltip": null,
            "layout": "IPY_MODEL_f492e71c00514c22a7f5fa504440a0da",
            "placeholder": "​",
            "style": "IPY_MODEL_92555d0ccd8649e28e0f32843ee74a4d",
            "value": "Processing:  86%"
          }
        },
        "11d7f1a545bf4cc2bfdf0a970f03189e": {
          "model_module": "@jupyter-widgets/controls",
          "model_name": "FloatProgressModel",
          "model_module_version": "1.5.0",
          "state": {
            "_dom_classes": [],
            "_model_module": "@jupyter-widgets/controls",
            "_model_module_version": "1.5.0",
            "_model_name": "FloatProgressModel",
            "_view_count": null,
            "_view_module": "@jupyter-widgets/controls",
            "_view_module_version": "1.5.0",
            "_view_name": "ProgressView",
            "bar_style": "",
            "description": "",
            "description_tooltip": null,
            "layout": "IPY_MODEL_2e7aea56100148aabc98450ada4a5770",
            "max": 7,
            "min": 0,
            "orientation": "horizontal",
            "style": "IPY_MODEL_d72eb98830c64b77bf873926dfa7b71c",
            "value": 7
          }
        },
        "5720bd7bd754478e91e650f0a3c8e80c": {
          "model_module": "@jupyter-widgets/controls",
          "model_name": "HTMLModel",
          "model_module_version": "1.5.0",
          "state": {
            "_dom_classes": [],
            "_model_module": "@jupyter-widgets/controls",
            "_model_module_version": "1.5.0",
            "_model_name": "HTMLModel",
            "_view_count": null,
            "_view_module": "@jupyter-widgets/controls",
            "_view_module_version": "1.5.0",
            "_view_name": "HTMLView",
            "description": "",
            "description_tooltip": null,
            "layout": "IPY_MODEL_8c05be98ae55491d8cf194d8a912f0de",
            "placeholder": "​",
            "style": "IPY_MODEL_c94dd51024bc43e8ba1fee676f317413",
            "value": " 6/7 [00:01&lt;00:00,  4.88it/s]"
          }
        },
        "e13c60b658e845fea510666b05fd8690": {
          "model_module": "@jupyter-widgets/base",
          "model_name": "LayoutModel",
          "model_module_version": "1.2.0",
          "state": {
            "_model_module": "@jupyter-widgets/base",
            "_model_module_version": "1.2.0",
            "_model_name": "LayoutModel",
            "_view_count": null,
            "_view_module": "@jupyter-widgets/base",
            "_view_module_version": "1.2.0",
            "_view_name": "LayoutView",
            "align_content": null,
            "align_items": null,
            "align_self": null,
            "border": null,
            "bottom": null,
            "display": null,
            "flex": null,
            "flex_flow": null,
            "grid_area": null,
            "grid_auto_columns": null,
            "grid_auto_flow": null,
            "grid_auto_rows": null,
            "grid_column": null,
            "grid_gap": null,
            "grid_row": null,
            "grid_template_areas": null,
            "grid_template_columns": null,
            "grid_template_rows": null,
            "height": null,
            "justify_content": null,
            "justify_items": null,
            "left": null,
            "margin": null,
            "max_height": null,
            "max_width": null,
            "min_height": null,
            "min_width": null,
            "object_fit": null,
            "object_position": null,
            "order": null,
            "overflow": null,
            "overflow_x": null,
            "overflow_y": null,
            "padding": null,
            "right": null,
            "top": null,
            "visibility": "hidden",
            "width": null
          }
        },
        "ae42a13fddc440a39468b72082536677": {
          "model_module": "@jupyter-widgets/controls",
          "model_name": "HBoxModel",
          "model_module_version": "1.5.0",
          "state": {
            "_dom_classes": [],
            "_model_module": "@jupyter-widgets/controls",
            "_model_module_version": "1.5.0",
            "_model_name": "HBoxModel",
            "_view_count": null,
            "_view_module": "@jupyter-widgets/controls",
            "_view_module_version": "1.5.0",
            "_view_name": "HBoxView",
            "box_style": "",
            "children": [
              "IPY_MODEL_aaafb625fc584763bcf19de316907152",
              "IPY_MODEL_11d7f1a545bf4cc2bfdf0a970f03189e",
              "IPY_MODEL_5720bd7bd754478e91e650f0a3c8e80c"
            ],
            "layout": "IPY_MODEL_e13c60b658e845fea510666b05fd8690"
          }
        },
        "75ba35545b6047099a2595cf65fc8a6f": {
          "model_module": "@jupyter-widgets/base",
          "model_name": "LayoutModel",
          "model_module_version": "1.2.0",
          "state": {
            "_model_module": "@jupyter-widgets/base",
            "_model_module_version": "1.2.0",
            "_model_name": "LayoutModel",
            "_view_count": null,
            "_view_module": "@jupyter-widgets/base",
            "_view_module_version": "1.2.0",
            "_view_name": "LayoutView",
            "align_content": null,
            "align_items": null,
            "align_self": null,
            "border": null,
            "bottom": null,
            "display": null,
            "flex": null,
            "flex_flow": null,
            "grid_area": null,
            "grid_auto_columns": null,
            "grid_auto_flow": null,
            "grid_auto_rows": null,
            "grid_column": null,
            "grid_gap": null,
            "grid_row": null,
            "grid_template_areas": null,
            "grid_template_columns": null,
            "grid_template_rows": null,
            "height": null,
            "justify_content": null,
            "justify_items": null,
            "left": null,
            "margin": null,
            "max_height": null,
            "max_width": null,
            "min_height": null,
            "min_width": null,
            "object_fit": null,
            "object_position": null,
            "order": null,
            "overflow": null,
            "overflow_x": null,
            "overflow_y": null,
            "padding": null,
            "right": null,
            "top": null,
            "visibility": null,
            "width": null
          }
        },
        "1ecafc869cd646a285b32c2f84d5f06d": {
          "model_module": "@jupyter-widgets/controls",
          "model_name": "ProgressStyleModel",
          "model_module_version": "1.5.0",
          "state": {
            "_model_module": "@jupyter-widgets/controls",
            "_model_module_version": "1.5.0",
            "_model_name": "ProgressStyleModel",
            "_view_count": null,
            "_view_module": "@jupyter-widgets/base",
            "_view_module_version": "1.2.0",
            "_view_name": "StyleView",
            "bar_color": null,
            "description_width": ""
          }
        },
        "d0fef2d7613b4a7ea33003e6a1520e85": {
          "model_module": "@jupyter-widgets/base",
          "model_name": "LayoutModel",
          "model_module_version": "1.2.0",
          "state": {
            "_model_module": "@jupyter-widgets/base",
            "_model_module_version": "1.2.0",
            "_model_name": "LayoutModel",
            "_view_count": null,
            "_view_module": "@jupyter-widgets/base",
            "_view_module_version": "1.2.0",
            "_view_name": "LayoutView",
            "align_content": null,
            "align_items": null,
            "align_self": null,
            "border": null,
            "bottom": null,
            "display": null,
            "flex": null,
            "flex_flow": null,
            "grid_area": null,
            "grid_auto_columns": null,
            "grid_auto_flow": null,
            "grid_auto_rows": null,
            "grid_column": null,
            "grid_gap": null,
            "grid_row": null,
            "grid_template_areas": null,
            "grid_template_columns": null,
            "grid_template_rows": null,
            "height": null,
            "justify_content": null,
            "justify_items": null,
            "left": null,
            "margin": null,
            "max_height": null,
            "max_width": null,
            "min_height": null,
            "min_width": null,
            "object_fit": null,
            "object_position": null,
            "order": null,
            "overflow": null,
            "overflow_x": null,
            "overflow_y": null,
            "padding": null,
            "right": null,
            "top": null,
            "visibility": null,
            "width": null
          }
        },
        "636a94064a8f4187bbcbae7e96928815": {
          "model_module": "@jupyter-widgets/controls",
          "model_name": "DescriptionStyleModel",
          "model_module_version": "1.5.0",
          "state": {
            "_model_module": "@jupyter-widgets/controls",
            "_model_module_version": "1.5.0",
            "_model_name": "DescriptionStyleModel",
            "_view_count": null,
            "_view_module": "@jupyter-widgets/base",
            "_view_module_version": "1.2.0",
            "_view_name": "StyleView",
            "description_width": ""
          }
        },
        "b65240033e3b44d4b53b2c71d018aaec": {
          "model_module": "@jupyter-widgets/base",
          "model_name": "LayoutModel",
          "model_module_version": "1.2.0",
          "state": {
            "_model_module": "@jupyter-widgets/base",
            "_model_module_version": "1.2.0",
            "_model_name": "LayoutModel",
            "_view_count": null,
            "_view_module": "@jupyter-widgets/base",
            "_view_module_version": "1.2.0",
            "_view_name": "LayoutView",
            "align_content": null,
            "align_items": null,
            "align_self": null,
            "border": null,
            "bottom": null,
            "display": null,
            "flex": null,
            "flex_flow": null,
            "grid_area": null,
            "grid_auto_columns": null,
            "grid_auto_flow": null,
            "grid_auto_rows": null,
            "grid_column": null,
            "grid_gap": null,
            "grid_row": null,
            "grid_template_areas": null,
            "grid_template_columns": null,
            "grid_template_rows": null,
            "height": null,
            "justify_content": null,
            "justify_items": null,
            "left": null,
            "margin": null,
            "max_height": null,
            "max_width": null,
            "min_height": null,
            "min_width": null,
            "object_fit": null,
            "object_position": null,
            "order": null,
            "overflow": null,
            "overflow_x": null,
            "overflow_y": null,
            "padding": null,
            "right": null,
            "top": null,
            "visibility": null,
            "width": null
          }
        },
        "9727e6c129294391b60ba199e7dfd70c": {
          "model_module": "@jupyter-widgets/controls",
          "model_name": "DescriptionStyleModel",
          "model_module_version": "1.5.0",
          "state": {
            "_model_module": "@jupyter-widgets/controls",
            "_model_module_version": "1.5.0",
            "_model_name": "DescriptionStyleModel",
            "_view_count": null,
            "_view_module": "@jupyter-widgets/base",
            "_view_module_version": "1.2.0",
            "_view_name": "StyleView",
            "description_width": ""
          }
        },
        "0f046e83ee334197b40cb21052697fa3": {
          "model_module": "@jupyter-widgets/controls",
          "model_name": "HTMLModel",
          "model_module_version": "1.5.0",
          "state": {
            "_dom_classes": [],
            "_model_module": "@jupyter-widgets/controls",
            "_model_module_version": "1.5.0",
            "_model_name": "HTMLModel",
            "_view_count": null,
            "_view_module": "@jupyter-widgets/controls",
            "_view_module_version": "1.5.0",
            "_view_name": "HTMLView",
            "description": "",
            "description_tooltip": null,
            "layout": "IPY_MODEL_d0fef2d7613b4a7ea33003e6a1520e85",
            "placeholder": "​",
            "style": "IPY_MODEL_636a94064a8f4187bbcbae7e96928815",
            "value": "Processing: 100%"
          }
        },
        "23b3d8fb73664533b90de7ff5f594dff": {
          "model_module": "@jupyter-widgets/controls",
          "model_name": "FloatProgressModel",
          "model_module_version": "1.5.0",
          "state": {
            "_dom_classes": [],
            "_model_module": "@jupyter-widgets/controls",
            "_model_module_version": "1.5.0",
            "_model_name": "FloatProgressModel",
            "_view_count": null,
            "_view_module": "@jupyter-widgets/controls",
            "_view_module_version": "1.5.0",
            "_view_name": "ProgressView",
            "bar_style": "",
            "description": "",
            "description_tooltip": null,
            "layout": "IPY_MODEL_75ba35545b6047099a2595cf65fc8a6f",
            "max": 7,
            "min": 0,
            "orientation": "horizontal",
            "style": "IPY_MODEL_1ecafc869cd646a285b32c2f84d5f06d",
            "value": 7
          }
        },
        "13ae66be679146ebbbb2733a079661c4": {
          "model_module": "@jupyter-widgets/controls",
          "model_name": "HTMLModel",
          "model_module_version": "1.5.0",
          "state": {
            "_dom_classes": [],
            "_model_module": "@jupyter-widgets/controls",
            "_model_module_version": "1.5.0",
            "_model_name": "HTMLModel",
            "_view_count": null,
            "_view_module": "@jupyter-widgets/controls",
            "_view_module_version": "1.5.0",
            "_view_name": "HTMLView",
            "description": "",
            "description_tooltip": null,
            "layout": "IPY_MODEL_b65240033e3b44d4b53b2c71d018aaec",
            "placeholder": "​",
            "style": "IPY_MODEL_9727e6c129294391b60ba199e7dfd70c",
            "value": " 7/7 [00:03&lt;00:00,  2.49it/s]"
          }
        },
        "2748d7b453074e78b1f58247e4b80305": {
          "model_module": "@jupyter-widgets/base",
          "model_name": "LayoutModel",
          "model_module_version": "1.2.0",
          "state": {
            "_model_module": "@jupyter-widgets/base",
            "_model_module_version": "1.2.0",
            "_model_name": "LayoutModel",
            "_view_count": null,
            "_view_module": "@jupyter-widgets/base",
            "_view_module_version": "1.2.0",
            "_view_name": "LayoutView",
            "align_content": null,
            "align_items": null,
            "align_self": null,
            "border": null,
            "bottom": null,
            "display": null,
            "flex": null,
            "flex_flow": null,
            "grid_area": null,
            "grid_auto_columns": null,
            "grid_auto_flow": null,
            "grid_auto_rows": null,
            "grid_column": null,
            "grid_gap": null,
            "grid_row": null,
            "grid_template_areas": null,
            "grid_template_columns": null,
            "grid_template_rows": null,
            "height": null,
            "justify_content": null,
            "justify_items": null,
            "left": null,
            "margin": null,
            "max_height": null,
            "max_width": null,
            "min_height": null,
            "min_width": null,
            "object_fit": null,
            "object_position": null,
            "order": null,
            "overflow": null,
            "overflow_x": null,
            "overflow_y": null,
            "padding": null,
            "right": null,
            "top": null,
            "visibility": "hidden",
            "width": null
          }
        },
        "4861dce93d6c40d0bed35586458c7526": {
          "model_module": "@jupyter-widgets/controls",
          "model_name": "HBoxModel",
          "model_module_version": "1.5.0",
          "state": {
            "_dom_classes": [],
            "_model_module": "@jupyter-widgets/controls",
            "_model_module_version": "1.5.0",
            "_model_name": "HBoxModel",
            "_view_count": null,
            "_view_module": "@jupyter-widgets/controls",
            "_view_module_version": "1.5.0",
            "_view_name": "HBoxView",
            "box_style": "",
            "children": [
              "IPY_MODEL_0f046e83ee334197b40cb21052697fa3",
              "IPY_MODEL_23b3d8fb73664533b90de7ff5f594dff",
              "IPY_MODEL_13ae66be679146ebbbb2733a079661c4"
            ],
            "layout": "IPY_MODEL_2748d7b453074e78b1f58247e4b80305"
          }
        }
      }
    }
  },
  "cells": [
    {
      "cell_type": "markdown",
      "metadata": {
        "id": "view-in-github",
        "colab_type": "text"
      },
      "source": [
        "<a href=\"https://colab.research.google.com/github/SecrezS/MACDforecasting/blob/main/ANL488_price_3Oct.ipynb\" target=\"_parent\"><img src=\"https://colab.research.google.com/assets/colab-badge.svg\" alt=\"Open In Colab\"/></a>"
      ]
    },
    {
      "cell_type": "markdown",
      "source": [
        "# Step 1: Import required libraries\n",
        "\n",
        "\n"
      ],
      "metadata": {
        "id": "fJJnnJpfrEe2"
      }
    },
    {
      "cell_type": "code",
      "execution_count": 1,
      "metadata": {
        "colab": {
          "base_uri": "https://localhost:8080/"
        },
        "id": "vuN2dojPHiic",
        "outputId": "8c66ed02-1856-42a8-9dc3-1a100eb3d609"
      },
      "outputs": [
        {
          "output_type": "stream",
          "name": "stdout",
          "text": [
            "Requirement already satisfied: pycaret in /usr/local/lib/python3.10/dist-packages (3.3.2)\n",
            "Requirement already satisfied: yellowbrick in /usr/local/lib/python3.10/dist-packages (1.5)\n",
            "Requirement already satisfied: ipython>=5.5.0 in /usr/local/lib/python3.10/dist-packages (from pycaret) (7.34.0)\n",
            "Requirement already satisfied: ipywidgets>=7.6.5 in /usr/local/lib/python3.10/dist-packages (from pycaret) (7.7.1)\n",
            "Requirement already satisfied: tqdm>=4.62.0 in /usr/local/lib/python3.10/dist-packages (from pycaret) (4.66.5)\n",
            "Requirement already satisfied: numpy<1.27,>=1.21 in /usr/local/lib/python3.10/dist-packages (from pycaret) (1.26.4)\n",
            "Requirement already satisfied: pandas<2.2.0 in /usr/local/lib/python3.10/dist-packages (from pycaret) (2.1.4)\n",
            "Requirement already satisfied: jinja2>=3 in /usr/local/lib/python3.10/dist-packages (from pycaret) (3.1.4)\n",
            "Requirement already satisfied: scipy<=1.11.4,>=1.6.1 in /usr/local/lib/python3.10/dist-packages (from pycaret) (1.11.4)\n",
            "Requirement already satisfied: joblib<1.4,>=1.2.0 in /usr/local/lib/python3.10/dist-packages (from pycaret) (1.3.2)\n",
            "Requirement already satisfied: scikit-learn>1.4.0 in /usr/local/lib/python3.10/dist-packages (from pycaret) (1.4.2)\n",
            "Requirement already satisfied: pyod>=1.1.3 in /usr/local/lib/python3.10/dist-packages (from pycaret) (2.0.2)\n",
            "Requirement already satisfied: imbalanced-learn>=0.12.0 in /usr/local/lib/python3.10/dist-packages (from pycaret) (0.12.3)\n",
            "Requirement already satisfied: category-encoders>=2.4.0 in /usr/local/lib/python3.10/dist-packages (from pycaret) (2.6.4)\n",
            "Requirement already satisfied: lightgbm>=3.0.0 in /usr/local/lib/python3.10/dist-packages (from pycaret) (4.5.0)\n",
            "Requirement already satisfied: numba>=0.55.0 in /usr/local/lib/python3.10/dist-packages (from pycaret) (0.60.0)\n",
            "Requirement already satisfied: requests>=2.27.1 in /usr/local/lib/python3.10/dist-packages (from pycaret) (2.32.3)\n",
            "Requirement already satisfied: psutil>=5.9.0 in /usr/local/lib/python3.10/dist-packages (from pycaret) (5.9.5)\n",
            "Requirement already satisfied: markupsafe>=2.0.1 in /usr/local/lib/python3.10/dist-packages (from pycaret) (2.1.5)\n",
            "Requirement already satisfied: importlib-metadata>=4.12.0 in /usr/local/lib/python3.10/dist-packages (from pycaret) (8.4.0)\n",
            "Requirement already satisfied: nbformat>=4.2.0 in /usr/local/lib/python3.10/dist-packages (from pycaret) (5.10.4)\n",
            "Requirement already satisfied: cloudpickle in /usr/local/lib/python3.10/dist-packages (from pycaret) (2.2.1)\n",
            "Requirement already satisfied: deprecation>=2.1.0 in /usr/local/lib/python3.10/dist-packages (from pycaret) (2.1.0)\n",
            "Requirement already satisfied: xxhash in /usr/local/lib/python3.10/dist-packages (from pycaret) (3.5.0)\n",
            "Requirement already satisfied: matplotlib<3.8.0 in /usr/local/lib/python3.10/dist-packages (from pycaret) (3.7.1)\n",
            "Requirement already satisfied: scikit-plot>=0.3.7 in /usr/local/lib/python3.10/dist-packages (from pycaret) (0.3.7)\n",
            "Requirement already satisfied: plotly>=5.14.0 in /usr/local/lib/python3.10/dist-packages (from pycaret) (5.24.1)\n",
            "Requirement already satisfied: kaleido>=0.2.1 in /usr/local/lib/python3.10/dist-packages (from pycaret) (0.2.1)\n",
            "Requirement already satisfied: schemdraw==0.15 in /usr/local/lib/python3.10/dist-packages (from pycaret) (0.15)\n",
            "Requirement already satisfied: plotly-resampler>=0.8.3.1 in /usr/local/lib/python3.10/dist-packages (from pycaret) (0.10.0)\n",
            "Requirement already satisfied: statsmodels>=0.12.1 in /usr/local/lib/python3.10/dist-packages (from pycaret) (0.14.3)\n",
            "Requirement already satisfied: sktime==0.26.0 in /usr/local/lib/python3.10/dist-packages (from pycaret) (0.26.0)\n",
            "Requirement already satisfied: tbats>=1.1.3 in /usr/local/lib/python3.10/dist-packages (from pycaret) (1.1.3)\n",
            "Requirement already satisfied: pmdarima>=2.0.4 in /usr/local/lib/python3.10/dist-packages (from pycaret) (2.0.4)\n",
            "Requirement already satisfied: wurlitzer in /usr/local/lib/python3.10/dist-packages (from pycaret) (3.1.1)\n",
            "Requirement already satisfied: packaging in /usr/local/lib/python3.10/dist-packages (from sktime==0.26.0->pycaret) (24.1)\n",
            "Requirement already satisfied: scikit-base<0.8.0 in /usr/local/lib/python3.10/dist-packages (from sktime==0.26.0->pycaret) (0.7.8)\n",
            "Requirement already satisfied: cycler>=0.10.0 in /usr/local/lib/python3.10/dist-packages (from yellowbrick) (0.12.1)\n",
            "Requirement already satisfied: patsy>=0.5.1 in /usr/local/lib/python3.10/dist-packages (from category-encoders>=2.4.0->pycaret) (0.5.6)\n",
            "Requirement already satisfied: threadpoolctl>=2.0.0 in /usr/local/lib/python3.10/dist-packages (from imbalanced-learn>=0.12.0->pycaret) (3.5.0)\n",
            "Requirement already satisfied: zipp>=0.5 in /usr/local/lib/python3.10/dist-packages (from importlib-metadata>=4.12.0->pycaret) (3.20.2)\n",
            "Requirement already satisfied: setuptools>=18.5 in /usr/local/lib/python3.10/dist-packages (from ipython>=5.5.0->pycaret) (71.0.4)\n",
            "Requirement already satisfied: jedi>=0.16 in /usr/local/lib/python3.10/dist-packages (from ipython>=5.5.0->pycaret) (0.19.1)\n",
            "Requirement already satisfied: decorator in /usr/local/lib/python3.10/dist-packages (from ipython>=5.5.0->pycaret) (4.4.2)\n",
            "Requirement already satisfied: pickleshare in /usr/local/lib/python3.10/dist-packages (from ipython>=5.5.0->pycaret) (0.7.5)\n",
            "Requirement already satisfied: traitlets>=4.2 in /usr/local/lib/python3.10/dist-packages (from ipython>=5.5.0->pycaret) (5.7.1)\n",
            "Requirement already satisfied: prompt-toolkit!=3.0.0,!=3.0.1,<3.1.0,>=2.0.0 in /usr/local/lib/python3.10/dist-packages (from ipython>=5.5.0->pycaret) (3.0.48)\n",
            "Requirement already satisfied: pygments in /usr/local/lib/python3.10/dist-packages (from ipython>=5.5.0->pycaret) (2.18.0)\n",
            "Requirement already satisfied: backcall in /usr/local/lib/python3.10/dist-packages (from ipython>=5.5.0->pycaret) (0.2.0)\n",
            "Requirement already satisfied: matplotlib-inline in /usr/local/lib/python3.10/dist-packages (from ipython>=5.5.0->pycaret) (0.1.7)\n",
            "Requirement already satisfied: pexpect>4.3 in /usr/local/lib/python3.10/dist-packages (from ipython>=5.5.0->pycaret) (4.9.0)\n",
            "Requirement already satisfied: ipykernel>=4.5.1 in /usr/local/lib/python3.10/dist-packages (from ipywidgets>=7.6.5->pycaret) (5.5.6)\n",
            "Requirement already satisfied: ipython-genutils~=0.2.0 in /usr/local/lib/python3.10/dist-packages (from ipywidgets>=7.6.5->pycaret) (0.2.0)\n",
            "Requirement already satisfied: widgetsnbextension~=3.6.0 in /usr/local/lib/python3.10/dist-packages (from ipywidgets>=7.6.5->pycaret) (3.6.9)\n",
            "Requirement already satisfied: jupyterlab-widgets>=1.0.0 in /usr/local/lib/python3.10/dist-packages (from ipywidgets>=7.6.5->pycaret) (3.0.13)\n",
            "Requirement already satisfied: contourpy>=1.0.1 in /usr/local/lib/python3.10/dist-packages (from matplotlib<3.8.0->pycaret) (1.3.0)\n",
            "Requirement already satisfied: fonttools>=4.22.0 in /usr/local/lib/python3.10/dist-packages (from matplotlib<3.8.0->pycaret) (4.54.1)\n",
            "Requirement already satisfied: kiwisolver>=1.0.1 in /usr/local/lib/python3.10/dist-packages (from matplotlib<3.8.0->pycaret) (1.4.7)\n",
            "Requirement already satisfied: pillow>=6.2.0 in /usr/local/lib/python3.10/dist-packages (from matplotlib<3.8.0->pycaret) (10.4.0)\n",
            "Requirement already satisfied: pyparsing>=2.3.1 in /usr/local/lib/python3.10/dist-packages (from matplotlib<3.8.0->pycaret) (3.1.4)\n",
            "Requirement already satisfied: python-dateutil>=2.7 in /usr/local/lib/python3.10/dist-packages (from matplotlib<3.8.0->pycaret) (2.8.2)\n",
            "Requirement already satisfied: fastjsonschema>=2.15 in /usr/local/lib/python3.10/dist-packages (from nbformat>=4.2.0->pycaret) (2.20.0)\n",
            "Requirement already satisfied: jsonschema>=2.6 in /usr/local/lib/python3.10/dist-packages (from nbformat>=4.2.0->pycaret) (4.23.0)\n",
            "Requirement already satisfied: jupyter-core!=5.0.*,>=4.12 in /usr/local/lib/python3.10/dist-packages (from nbformat>=4.2.0->pycaret) (5.7.2)\n",
            "Requirement already satisfied: llvmlite<0.44,>=0.43.0dev0 in /usr/local/lib/python3.10/dist-packages (from numba>=0.55.0->pycaret) (0.43.0)\n",
            "Requirement already satisfied: pytz>=2020.1 in /usr/local/lib/python3.10/dist-packages (from pandas<2.2.0->pycaret) (2024.2)\n",
            "Requirement already satisfied: tzdata>=2022.1 in /usr/local/lib/python3.10/dist-packages (from pandas<2.2.0->pycaret) (2024.2)\n",
            "Requirement already satisfied: tenacity>=6.2.0 in /usr/local/lib/python3.10/dist-packages (from plotly>=5.14.0->pycaret) (9.0.0)\n",
            "Requirement already satisfied: dash>=2.9.0 in /usr/local/lib/python3.10/dist-packages (from plotly-resampler>=0.8.3.1->pycaret) (2.18.1)\n",
            "Requirement already satisfied: orjson<4.0.0,>=3.8.0 in /usr/local/lib/python3.10/dist-packages (from plotly-resampler>=0.8.3.1->pycaret) (3.10.7)\n",
            "Requirement already satisfied: tsdownsample>=0.1.3 in /usr/local/lib/python3.10/dist-packages (from plotly-resampler>=0.8.3.1->pycaret) (0.1.3)\n",
            "Requirement already satisfied: Cython!=0.29.18,!=0.29.31,>=0.29 in /usr/local/lib/python3.10/dist-packages (from pmdarima>=2.0.4->pycaret) (3.0.11)\n",
            "Requirement already satisfied: urllib3 in /usr/local/lib/python3.10/dist-packages (from pmdarima>=2.0.4->pycaret) (2.2.3)\n",
            "Requirement already satisfied: charset-normalizer<4,>=2 in /usr/local/lib/python3.10/dist-packages (from requests>=2.27.1->pycaret) (3.3.2)\n",
            "Requirement already satisfied: idna<4,>=2.5 in /usr/local/lib/python3.10/dist-packages (from requests>=2.27.1->pycaret) (3.10)\n",
            "Requirement already satisfied: certifi>=2017.4.17 in /usr/local/lib/python3.10/dist-packages (from requests>=2.27.1->pycaret) (2024.8.30)\n",
            "Requirement already satisfied: Flask<3.1,>=1.0.4 in /usr/local/lib/python3.10/dist-packages (from dash>=2.9.0->plotly-resampler>=0.8.3.1->pycaret) (2.2.5)\n",
            "Requirement already satisfied: Werkzeug<3.1 in /usr/local/lib/python3.10/dist-packages (from dash>=2.9.0->plotly-resampler>=0.8.3.1->pycaret) (3.0.4)\n",
            "Requirement already satisfied: dash-html-components==2.0.0 in /usr/local/lib/python3.10/dist-packages (from dash>=2.9.0->plotly-resampler>=0.8.3.1->pycaret) (2.0.0)\n",
            "Requirement already satisfied: dash-core-components==2.0.0 in /usr/local/lib/python3.10/dist-packages (from dash>=2.9.0->plotly-resampler>=0.8.3.1->pycaret) (2.0.0)\n",
            "Requirement already satisfied: dash-table==5.0.0 in /usr/local/lib/python3.10/dist-packages (from dash>=2.9.0->plotly-resampler>=0.8.3.1->pycaret) (5.0.0)\n",
            "Requirement already satisfied: typing-extensions>=4.1.1 in /usr/local/lib/python3.10/dist-packages (from dash>=2.9.0->plotly-resampler>=0.8.3.1->pycaret) (4.12.2)\n",
            "Requirement already satisfied: retrying in /usr/local/lib/python3.10/dist-packages (from dash>=2.9.0->plotly-resampler>=0.8.3.1->pycaret) (1.3.4)\n",
            "Requirement already satisfied: nest-asyncio in /usr/local/lib/python3.10/dist-packages (from dash>=2.9.0->plotly-resampler>=0.8.3.1->pycaret) (1.6.0)\n",
            "Requirement already satisfied: jupyter-client in /usr/local/lib/python3.10/dist-packages (from ipykernel>=4.5.1->ipywidgets>=7.6.5->pycaret) (6.1.12)\n",
            "Requirement already satisfied: tornado>=4.2 in /usr/local/lib/python3.10/dist-packages (from ipykernel>=4.5.1->ipywidgets>=7.6.5->pycaret) (6.3.3)\n",
            "Requirement already satisfied: parso<0.9.0,>=0.8.3 in /usr/local/lib/python3.10/dist-packages (from jedi>=0.16->ipython>=5.5.0->pycaret) (0.8.4)\n",
            "Requirement already satisfied: attrs>=22.2.0 in /usr/local/lib/python3.10/dist-packages (from jsonschema>=2.6->nbformat>=4.2.0->pycaret) (24.2.0)\n",
            "Requirement already satisfied: jsonschema-specifications>=2023.03.6 in /usr/local/lib/python3.10/dist-packages (from jsonschema>=2.6->nbformat>=4.2.0->pycaret) (2023.12.1)\n",
            "Requirement already satisfied: referencing>=0.28.4 in /usr/local/lib/python3.10/dist-packages (from jsonschema>=2.6->nbformat>=4.2.0->pycaret) (0.35.1)\n",
            "Requirement already satisfied: rpds-py>=0.7.1 in /usr/local/lib/python3.10/dist-packages (from jsonschema>=2.6->nbformat>=4.2.0->pycaret) (0.20.0)\n",
            "Requirement already satisfied: platformdirs>=2.5 in /usr/local/lib/python3.10/dist-packages (from jupyter-core!=5.0.*,>=4.12->nbformat>=4.2.0->pycaret) (4.3.6)\n",
            "Requirement already satisfied: six in /usr/local/lib/python3.10/dist-packages (from patsy>=0.5.1->category-encoders>=2.4.0->pycaret) (1.16.0)\n",
            "Requirement already satisfied: ptyprocess>=0.5 in /usr/local/lib/python3.10/dist-packages (from pexpect>4.3->ipython>=5.5.0->pycaret) (0.7.0)\n",
            "Requirement already satisfied: wcwidth in /usr/local/lib/python3.10/dist-packages (from prompt-toolkit!=3.0.0,!=3.0.1,<3.1.0,>=2.0.0->ipython>=5.5.0->pycaret) (0.2.13)\n",
            "Requirement already satisfied: notebook>=4.4.1 in /usr/local/lib/python3.10/dist-packages (from widgetsnbextension~=3.6.0->ipywidgets>=7.6.5->pycaret) (6.5.5)\n",
            "Requirement already satisfied: itsdangerous>=2.0 in /usr/local/lib/python3.10/dist-packages (from Flask<3.1,>=1.0.4->dash>=2.9.0->plotly-resampler>=0.8.3.1->pycaret) (2.2.0)\n",
            "Requirement already satisfied: click>=8.0 in /usr/local/lib/python3.10/dist-packages (from Flask<3.1,>=1.0.4->dash>=2.9.0->plotly-resampler>=0.8.3.1->pycaret) (8.1.7)\n",
            "Requirement already satisfied: pyzmq<25,>=17 in /usr/local/lib/python3.10/dist-packages (from notebook>=4.4.1->widgetsnbextension~=3.6.0->ipywidgets>=7.6.5->pycaret) (24.0.1)\n",
            "Requirement already satisfied: argon2-cffi in /usr/local/lib/python3.10/dist-packages (from notebook>=4.4.1->widgetsnbextension~=3.6.0->ipywidgets>=7.6.5->pycaret) (23.1.0)\n",
            "Requirement already satisfied: nbconvert>=5 in /usr/local/lib/python3.10/dist-packages (from notebook>=4.4.1->widgetsnbextension~=3.6.0->ipywidgets>=7.6.5->pycaret) (6.5.4)\n",
            "Requirement already satisfied: Send2Trash>=1.8.0 in /usr/local/lib/python3.10/dist-packages (from notebook>=4.4.1->widgetsnbextension~=3.6.0->ipywidgets>=7.6.5->pycaret) (1.8.3)\n",
            "Requirement already satisfied: terminado>=0.8.3 in /usr/local/lib/python3.10/dist-packages (from notebook>=4.4.1->widgetsnbextension~=3.6.0->ipywidgets>=7.6.5->pycaret) (0.18.1)\n",
            "Requirement already satisfied: prometheus-client in /usr/local/lib/python3.10/dist-packages (from notebook>=4.4.1->widgetsnbextension~=3.6.0->ipywidgets>=7.6.5->pycaret) (0.21.0)\n",
            "Requirement already satisfied: nbclassic>=0.4.7 in /usr/local/lib/python3.10/dist-packages (from notebook>=4.4.1->widgetsnbextension~=3.6.0->ipywidgets>=7.6.5->pycaret) (1.1.0)\n",
            "Requirement already satisfied: notebook-shim>=0.2.3 in /usr/local/lib/python3.10/dist-packages (from nbclassic>=0.4.7->notebook>=4.4.1->widgetsnbextension~=3.6.0->ipywidgets>=7.6.5->pycaret) (0.2.4)\n",
            "Requirement already satisfied: lxml in /usr/local/lib/python3.10/dist-packages (from nbconvert>=5->notebook>=4.4.1->widgetsnbextension~=3.6.0->ipywidgets>=7.6.5->pycaret) (4.9.4)\n",
            "Requirement already satisfied: beautifulsoup4 in /usr/local/lib/python3.10/dist-packages (from nbconvert>=5->notebook>=4.4.1->widgetsnbextension~=3.6.0->ipywidgets>=7.6.5->pycaret) (4.12.3)\n",
            "Requirement already satisfied: bleach in /usr/local/lib/python3.10/dist-packages (from nbconvert>=5->notebook>=4.4.1->widgetsnbextension~=3.6.0->ipywidgets>=7.6.5->pycaret) (6.1.0)\n",
            "Requirement already satisfied: defusedxml in /usr/local/lib/python3.10/dist-packages (from nbconvert>=5->notebook>=4.4.1->widgetsnbextension~=3.6.0->ipywidgets>=7.6.5->pycaret) (0.7.1)\n",
            "Requirement already satisfied: entrypoints>=0.2.2 in /usr/local/lib/python3.10/dist-packages (from nbconvert>=5->notebook>=4.4.1->widgetsnbextension~=3.6.0->ipywidgets>=7.6.5->pycaret) (0.4)\n",
            "Requirement already satisfied: jupyterlab-pygments in /usr/local/lib/python3.10/dist-packages (from nbconvert>=5->notebook>=4.4.1->widgetsnbextension~=3.6.0->ipywidgets>=7.6.5->pycaret) (0.3.0)\n",
            "Requirement already satisfied: mistune<2,>=0.8.1 in /usr/local/lib/python3.10/dist-packages (from nbconvert>=5->notebook>=4.4.1->widgetsnbextension~=3.6.0->ipywidgets>=7.6.5->pycaret) (0.8.4)\n",
            "Requirement already satisfied: nbclient>=0.5.0 in /usr/local/lib/python3.10/dist-packages (from nbconvert>=5->notebook>=4.4.1->widgetsnbextension~=3.6.0->ipywidgets>=7.6.5->pycaret) (0.10.0)\n",
            "Requirement already satisfied: pandocfilters>=1.4.1 in /usr/local/lib/python3.10/dist-packages (from nbconvert>=5->notebook>=4.4.1->widgetsnbextension~=3.6.0->ipywidgets>=7.6.5->pycaret) (1.5.1)\n",
            "Requirement already satisfied: tinycss2 in /usr/local/lib/python3.10/dist-packages (from nbconvert>=5->notebook>=4.4.1->widgetsnbextension~=3.6.0->ipywidgets>=7.6.5->pycaret) (1.3.0)\n",
            "Requirement already satisfied: argon2-cffi-bindings in /usr/local/lib/python3.10/dist-packages (from argon2-cffi->notebook>=4.4.1->widgetsnbextension~=3.6.0->ipywidgets>=7.6.5->pycaret) (21.2.0)\n",
            "Requirement already satisfied: jupyter-server<3,>=1.8 in /usr/local/lib/python3.10/dist-packages (from notebook-shim>=0.2.3->nbclassic>=0.4.7->notebook>=4.4.1->widgetsnbextension~=3.6.0->ipywidgets>=7.6.5->pycaret) (1.24.0)\n",
            "Requirement already satisfied: cffi>=1.0.1 in /usr/local/lib/python3.10/dist-packages (from argon2-cffi-bindings->argon2-cffi->notebook>=4.4.1->widgetsnbextension~=3.6.0->ipywidgets>=7.6.5->pycaret) (1.17.1)\n",
            "Requirement already satisfied: soupsieve>1.2 in /usr/local/lib/python3.10/dist-packages (from beautifulsoup4->nbconvert>=5->notebook>=4.4.1->widgetsnbextension~=3.6.0->ipywidgets>=7.6.5->pycaret) (2.6)\n",
            "Requirement already satisfied: webencodings in /usr/local/lib/python3.10/dist-packages (from bleach->nbconvert>=5->notebook>=4.4.1->widgetsnbextension~=3.6.0->ipywidgets>=7.6.5->pycaret) (0.5.1)\n",
            "Requirement already satisfied: pycparser in /usr/local/lib/python3.10/dist-packages (from cffi>=1.0.1->argon2-cffi-bindings->argon2-cffi->notebook>=4.4.1->widgetsnbextension~=3.6.0->ipywidgets>=7.6.5->pycaret) (2.22)\n",
            "Requirement already satisfied: anyio<4,>=3.1.0 in /usr/local/lib/python3.10/dist-packages (from jupyter-server<3,>=1.8->notebook-shim>=0.2.3->nbclassic>=0.4.7->notebook>=4.4.1->widgetsnbextension~=3.6.0->ipywidgets>=7.6.5->pycaret) (3.7.1)\n",
            "Requirement already satisfied: websocket-client in /usr/local/lib/python3.10/dist-packages (from jupyter-server<3,>=1.8->notebook-shim>=0.2.3->nbclassic>=0.4.7->notebook>=4.4.1->widgetsnbextension~=3.6.0->ipywidgets>=7.6.5->pycaret) (1.8.0)\n",
            "Requirement already satisfied: sniffio>=1.1 in /usr/local/lib/python3.10/dist-packages (from anyio<4,>=3.1.0->jupyter-server<3,>=1.8->notebook-shim>=0.2.3->nbclassic>=0.4.7->notebook>=4.4.1->widgetsnbextension~=3.6.0->ipywidgets>=7.6.5->pycaret) (1.3.1)\n",
            "Requirement already satisfied: exceptiongroup in /usr/local/lib/python3.10/dist-packages (from anyio<4,>=3.1.0->jupyter-server<3,>=1.8->notebook-shim>=0.2.3->nbclassic>=0.4.7->notebook>=4.4.1->widgetsnbextension~=3.6.0->ipywidgets>=7.6.5->pycaret) (1.2.2)\n",
            "  % Total    % Received % Xferd  Average Speed   Time    Time     Time  Current\n",
            "                                 Dload  Upload   Total   Spent    Left  Speed\n",
            "100  4063    0  4063    0     0  21025      0 --:--:-- --:--:-- --:--:-- 21051\n",
            "100  517k  100  517k    0     0   761k      0 --:--:-- --:--:-- --:--:-- 2004k\n",
            "  % Total    % Received % Xferd  Average Speed   Time    Time     Time  Current\n",
            "                                 Dload  Upload   Total   Spent    Left  Speed\n",
            "100  4035    0  4035    0     0  18729      0 --:--:-- --:--:-- --:--:-- 18767\n",
            "100  392k  100  392k    0     0   842k      0 --:--:-- --:--:-- --:--:-- 6226k\n"
          ]
        }
      ],
      "source": [
        "# Import required libraries\n",
        "\n",
        "!pip install pycaret yellowbrick\n",
        "import yfinance as yf\n",
        "import datetime\n",
        "import pandas as pd\n",
        "import numpy as np\n",
        "import matplotlib.pyplot as plt\n",
        "import matplotlib.ticker as ticker\n",
        "import matplotlib.gridspec as gridspec\n",
        "import seaborn as sns\n",
        "import pycaret\n",
        "from pycaret.regression import *\n",
        "from sklearn.ensemble import RandomForestRegressor\n",
        "from sklearn.metrics import mean_squared_error, mean_absolute_error, r2_score\n",
        "from sklearn.model_selection import TimeSeriesSplit\n",
        "from sklearn.preprocessing import StandardScaler\n",
        "from sklearn.linear_model import LinearRegression, Ridge\n",
        "from sklearn.linear_model import HuberRegressor\n",
        "from sklearn.svm import SVR\n",
        "from yellowbrick.regressor import PredictionError\n",
        "\n",
        "# Download and extract the libta-lib binaries\n",
        "url = 'https://anaconda.org/conda-forge/libta-lib/0.4.0/download/linux-64/libta-lib-0.4.0-h166bdaf_1.tar.bz2'\n",
        "!curl -L $url | tar xj -C /usr/lib/x86_64-linux-gnu/ lib --strip-components=1\n",
        "\n",
        "# Download and extract the Python wrapper for TA-Lib\n",
        "url = 'https://anaconda.org/conda-forge/ta-lib/0.4.19/download/linux-64/ta-lib-0.4.19-py310hde88566_4.tar.bz2'\n",
        "!curl -L $url | tar xj -C /usr/local/lib/python3.10/dist-packages/ lib/python3.10/site-packages/talib --strip-components=3\n",
        "\n",
        "# Import TA-Lib\n",
        "import talib"
      ]
    },
    {
      "cell_type": "markdown",
      "source": [
        "# Step 2: Download data and prepare main dataframe\n"
      ],
      "metadata": {
        "id": "Bl8GDMtzrOPU"
      }
    },
    {
      "cell_type": "code",
      "source": [
        "# Download data for multiple tickers (SPY, DIA, QQQ, IWM, XLK)\n",
        "tickers = [\"SPY\", \"DIA\", \"QQQ\", \"IWM\", \"XLK\"]\n",
        "dfs = {}\n",
        "\n",
        "for ticker in tickers:\n",
        "    # Download historical data\n",
        "    df = yf.download(ticker, start=\"2012-01-01\", end=\"2024-01-01\")\n",
        "    df.reset_index(inplace=True)\n",
        "    dfs[ticker] = df\n",
        "\n",
        "# Choose the main dataset for demonstration, SPY\n",
        "data = dfs[\"SPY\"].copy()"
      ],
      "metadata": {
        "colab": {
          "base_uri": "https://localhost:8080/"
        },
        "id": "z_L4GocnHmT_",
        "outputId": "8fd09bbe-fc07-45b0-e983-e935d90dd305",
        "collapsed": true
      },
      "execution_count": 2,
      "outputs": [
        {
          "output_type": "stream",
          "name": "stderr",
          "text": [
            "[*********************100%***********************]  1 of 1 completed\n",
            "[*********************100%***********************]  1 of 1 completed\n",
            "[*********************100%***********************]  1 of 1 completed\n",
            "[*********************100%***********************]  1 of 1 completed\n",
            "[*********************100%***********************]  1 of 1 completed\n"
          ]
        }
      ]
    },
    {
      "cell_type": "code",
      "source": [
        "data.head()\n",
        "data.info()"
      ],
      "metadata": {
        "colab": {
          "base_uri": "https://localhost:8080/"
        },
        "id": "ZgbSrt3sUWd_",
        "outputId": "b6c682c5-da5b-478a-a624-fac51135dfe4"
      },
      "execution_count": 3,
      "outputs": [
        {
          "output_type": "stream",
          "name": "stdout",
          "text": [
            "<class 'pandas.core.frame.DataFrame'>\n",
            "RangeIndex: 3018 entries, 0 to 3017\n",
            "Data columns (total 7 columns):\n",
            " #   Column     Non-Null Count  Dtype         \n",
            "---  ------     --------------  -----         \n",
            " 0   Date       3018 non-null   datetime64[ns]\n",
            " 1   Open       3018 non-null   float64       \n",
            " 2   High       3018 non-null   float64       \n",
            " 3   Low        3018 non-null   float64       \n",
            " 4   Close      3018 non-null   float64       \n",
            " 5   Adj Close  3018 non-null   float64       \n",
            " 6   Volume     3018 non-null   int64         \n",
            "dtypes: datetime64[ns](1), float64(5), int64(1)\n",
            "memory usage: 165.2 KB\n"
          ]
        }
      ]
    },
    {
      "cell_type": "markdown",
      "source": [
        "# Step 3: Adding technical indicators using TA-Lib"
      ],
      "metadata": {
        "id": "GpGmCY7_J4RV"
      }
    },
    {
      "cell_type": "code",
      "source": [
        "# Adding Technical Indicators using TA-Lib\n",
        "\n",
        "# Calculate Relative Strength Index (RSI)\n",
        "data['RSI'] = talib.RSI(data['Adj Close'], timeperiod=14)\n",
        "\n",
        "# Calculate Moving Average Convergence Divergence (MACD)\n",
        "data['MACD'], data['MACD_signal'], data['MACD_diff'] = talib.MACD(data['Adj Close'], fastperiod=12, slowperiod=26, signalperiod=9)\n",
        "\n",
        "# Calculate Average True Range (ATR)\n",
        "data['ATR'] = talib.ATR(data['High'], data['Low'], data['Adj Close'], timeperiod=14)\n",
        "\n",
        "# Calculate Bollinger Bands (BB)\n",
        "data['bb_bbm'], data['bb_bbh'], data['bb_bbl'] = talib.BBANDS(data['Adj Close'], timeperiod=20, nbdevup=2, nbdevdn=2, matype=0)\n",
        "\n",
        "# Calculate Keltner Channel (KC)\n",
        "data['EMA_KC'] = talib.EMA(data['Adj Close'], timeperiod=20)\n",
        "data['KC_upper'] = data['EMA_KC'] + (data['ATR'] * 1.5)\n",
        "data['KC_lower'] = data['EMA_KC'] - (data['ATR'] * 1.5)\n",
        "data['KC'] = (data['Adj Close'] - data['KC_upper']) / data['Adj Close']\n",
        "data.drop(columns=['EMA_KC', 'KC_upper', 'KC_lower'], inplace=True)\n",
        "\n",
        "# Calculate Donchian Channel (DC)\n",
        "data['DC_upper'] = data['High'].rolling(window=20).max()\n",
        "data['DC_lower'] = data['Low'].rolling(window=20).min()\n",
        "data['DC_middle'] = (data['DC_upper'] + data['DC_lower']) / 2\n",
        "\n",
        "# Calculate On-Balance Volume (OBV)\n",
        "data['OBV'] = talib.OBV(data['Adj Close'], data['Volume'])\n",
        "\n",
        "# Calculate Chaikin Money Flow (CMF)\n",
        "cmf_period = 20\n",
        "data['Money_Flow_Multiplier'] = ((data['Adj Close'] - data['Low']) - (data['High'] - data['Adj Close'])) / (data['High'] - data['Low'])\n",
        "data['Money_Flow_Volume'] = data['Money_Flow_Multiplier'] * data['Volume']\n",
        "data['CMF'] = data['Money_Flow_Volume'].rolling(window=cmf_period).sum() / data['Volume'].rolling(window=cmf_period).sum()\n",
        "\n",
        "# Calculate the Stochastic Oscillator\n",
        "data['stoch_k'], data['stoch_d'] = talib.STOCH(data['High'], data['Low'], data['Adj Close'],\n",
        "                                               fastk_period=14,  # The %K period\n",
        "                                               slowk_period=3,   # The %K slowing period\n",
        "                                               slowk_matype=0,   # Moving average type for %K (0 = SMA)\n",
        "                                               slowd_period=3,   # The %D period\n",
        "                                               slowd_matype=0)   # Moving average type for %D (0 = SMA)\n",
        "\n",
        "# Calculate the Average Directional Index (ADX)\n",
        "data['ADX'] = talib.ADX(data['High'], data['Low'], data['Adj Close'], timeperiod=14)\n",
        "\n",
        "# Set 'Date' as the index\n",
        "data.set_index('Date', inplace=True)"
      ],
      "metadata": {
        "id": "gDeex199J4lG"
      },
      "execution_count": 4,
      "outputs": []
    },
    {
      "cell_type": "markdown",
      "source": [
        "# Step 4: Create lag features"
      ],
      "metadata": {
        "id": "gB_l7hgWJ4T4"
      }
    },
    {
      "cell_type": "code",
      "source": [
        "# List of features to create lag features (exlcude \"Adj Close\")\n",
        "features_to_lag = ['Volume', 'RSI', 'MACD', 'MACD_signal',\n",
        "                   'MACD_diff', 'ATR', 'bb_bbm', 'bb_bbh',\n",
        "                   'bb_bbl', 'KC','DC_upper', 'DC_lower',\n",
        "                   'DC_middle','OBV','CMF','stoch_k','stoch_d','ADX']\n",
        "\n",
        "# Number of lag days to create\n",
        "lag_days = 20\n",
        "\n",
        "# Function to create lagged features\n",
        "def create_lagged_features(df, lag_days, columns):\n",
        "    for col in columns:\n",
        "        for lag in range(1, lag_days + 1):\n",
        "            df[f'{col}_lag_{lag}'] = df[col].shift(lag)\n",
        "    return df\n",
        "\n",
        "# Apply lagged features\n",
        "data = create_lagged_features(data, lag_days, features_to_lag)\n",
        "data.dropna(inplace=True)\n",
        "\n",
        "# Check the resulting DataFrame to confirm new columns\n",
        "print(data.head())"
      ],
      "metadata": {
        "id": "buN4eyzoJ4nl",
        "colab": {
          "base_uri": "https://localhost:8080/"
        },
        "outputId": "2a97933e-0371-4d95-bbfd-5542cdb0e3ae"
      },
      "execution_count": 5,
      "outputs": [
        {
          "output_type": "stream",
          "name": "stdout",
          "text": [
            "                  Open        High         Low       Close   Adj Close  \\\n",
            "Date                                                                     \n",
            "2012-03-20  140.050003  140.610001  139.639999  140.440002  111.839806   \n",
            "2012-03-21  140.520004  140.649994  139.919998  140.210007  111.656624   \n",
            "2012-03-22  139.179993  139.550003  138.740005  139.199997  110.852318   \n",
            "2012-03-23  139.320007  139.809998  138.550003  139.649994  111.210655   \n",
            "2012-03-26  140.649994  141.610001  140.600006  141.610001  112.771484   \n",
            "\n",
            "               Volume        RSI      MACD  MACD_signal  MACD_diff  ...  \\\n",
            "Date                                                                ...   \n",
            "2012-03-20  121729700  71.357070  1.443675     1.252665   0.191010  ...   \n",
            "2012-03-21  122388400  69.497190  1.432619     1.288655   0.143963  ...   \n",
            "2012-03-22  135216700  61.871764  1.343469     1.299618   0.043851  ...   \n",
            "2012-03-23  120521000  63.778618  1.286898     1.297074  -0.010176  ...   \n",
            "2012-03-26  120164000  70.661322  1.352421     1.308143   0.044277  ...   \n",
            "\n",
            "            ADX_lag_11  ADX_lag_12  ADX_lag_13  ADX_lag_14  ADX_lag_15  \\\n",
            "Date                                                                     \n",
            "2012-03-20   41.814780   43.397554   43.923720   44.490360   45.100588   \n",
            "2012-03-21   39.420999   41.814780   43.397554   43.923720   44.490360   \n",
            "2012-03-22   36.721962   39.420999   41.814780   43.397554   43.923720   \n",
            "2012-03-23   35.165553   36.721962   39.420999   41.814780   43.397554   \n",
            "2012-03-26   34.149188   35.165553   36.721962   39.420999   41.814780   \n",
            "\n",
            "            ADX_lag_16  ADX_lag_17  ADX_lag_18  ADX_lag_19  ADX_lag_20  \n",
            "Date                                                                    \n",
            "2012-03-20   46.102821   47.324620   47.394768   47.758703   47.692382  \n",
            "2012-03-21   45.100588   46.102821   47.324620   47.394768   47.758703  \n",
            "2012-03-22   44.490360   45.100588   46.102821   47.324620   47.394768  \n",
            "2012-03-23   43.923720   44.490360   45.100588   46.102821   47.324620  \n",
            "2012-03-26   43.397554   43.923720   44.490360   45.100588   46.102821  \n",
            "\n",
            "[5 rows x 385 columns]\n"
          ]
        }
      ]
    },
    {
      "cell_type": "code",
      "source": [
        "# Drop features that are not lagged\n",
        "columns_to_drop = ['Open','High','Low','Close','Volume', 'RSI', 'MACD',\n",
        "                   'MACD_signal', 'MACD_diff', 'ATR', 'bb_bbm', 'bb_bbh',\n",
        "                   'bb_bbl', 'KC','DC_upper',\n",
        "                   'DC_lower', 'DC_middle','OBV','CMF','Money_Flow_Multiplier',\n",
        "                   'Money_Flow_Volume','stoch_k','stoch_d','ADX']\n",
        "\n",
        "data.drop(columns=columns_to_drop, inplace=True)\n",
        "data.fillna(method='ffill', inplace=True)"
      ],
      "metadata": {
        "id": "okaY68vGCldS"
      },
      "execution_count": 6,
      "outputs": []
    },
    {
      "cell_type": "markdown",
      "source": [
        "# Step 6: Split the data into train, validation, and test sets"
      ],
      "metadata": {
        "id": "AImYd3Fu4_7_"
      }
    },
    {
      "cell_type": "code",
      "source": [
        "# Split into training, validation, and test sets\n",
        "train_data = data[data.index < \"2022-01-01\"]\n",
        "validation_data = data[(data.index >= \"2022-01-01\") & (data.index < \"2023-01-01\")]\n",
        "test_data = data[data.index >= \"2023-01-01\"]\n",
        "\n",
        "# Display the sizes of each set to ensure proper segregation\n",
        "print(f\"Training set: {train_data.shape}\")\n",
        "print(f\"Validation set: {validation_data.shape}\")\n",
        "print(f\"Test set: {test_data.shape}\")"
      ],
      "metadata": {
        "id": "mKhdxRmH4m6i",
        "colab": {
          "base_uri": "https://localhost:8080/"
        },
        "outputId": "44712ca3-7b4a-42be-8077-2ac0d259aac0"
      },
      "execution_count": 7,
      "outputs": [
        {
          "output_type": "stream",
          "name": "stdout",
          "text": [
            "Training set: (2464, 361)\n",
            "Validation set: (251, 361)\n",
            "Test set: (250, 361)\n"
          ]
        }
      ]
    },
    {
      "cell_type": "markdown",
      "source": [
        "# Step 7: Identify important features using RandomForest"
      ],
      "metadata": {
        "id": "QjD4IaE8J4XZ"
      }
    },
    {
      "cell_type": "code",
      "source": [
        "X_train = train_data.drop(columns=['Adj Close'])\n",
        "y_train = train_data['Adj Close']\n",
        "\n",
        "rf_model = RandomForestRegressor(n_estimators=100, random_state=42)\n",
        "rf_model.fit(X_train, y_train)\n",
        "\n",
        "# Identify important features (features with importance > 0.01, contributes at least 1% to the model's predictive ability)\n",
        "feature_importances = pd.Series(rf_model.feature_importances_, index=X_train.columns).sort_values(ascending=False)\n",
        "selected_features = feature_importances[feature_importances > 0.01].index.tolist()\n",
        "\n",
        "# Plot the top 10 important features\n",
        "plt.figure(figsize=(10, 6))\n",
        "feature_importances.head(10).plot(kind='bar')\n",
        "plt.title('Top 10 Important Features')\n",
        "plt.show()\n",
        "\n",
        "# Show the selected features\n",
        "selected_features"
      ],
      "metadata": {
        "id": "z5z5KLHwJ4qQ",
        "colab": {
          "base_uri": "https://localhost:8080/",
          "height": 1000
        },
        "outputId": "b6bbe08d-aa87-42d7-e1ef-c0436255779f"
      },
      "execution_count": 8,
      "outputs": [
        {
          "output_type": "display_data",
          "data": {
            "text/plain": [
              "<Figure size 1000x600 with 1 Axes>"
            ],
            "image/png": "[encoded data removed]"
          },
          "metadata": {}
        },
        {
          "output_type": "execute_result",
          "data": {
            "text/plain": [
              "['bb_bbl_lag_1',\n",
              " 'DC_lower_lag_1',\n",
              " 'bb_bbh_lag_1',\n",
              " 'bb_bbm_lag_1',\n",
              " 'bb_bbm_lag_3',\n",
              " 'DC_upper_lag_1',\n",
              " 'bb_bbm_lag_14',\n",
              " 'bb_bbm_lag_6',\n",
              " 'bb_bbm_lag_12',\n",
              " 'bb_bbm_lag_15',\n",
              " 'bb_bbm_lag_2',\n",
              " 'bb_bbm_lag_13',\n",
              " 'DC_upper_lag_18',\n",
              " 'bb_bbh_lag_17',\n",
              " 'bb_bbm_lag_7',\n",
              " 'bb_bbm_lag_17',\n",
              " 'bb_bbh_lag_13',\n",
              " 'bb_bbh_lag_10',\n",
              " 'bb_bbm_lag_9',\n",
              " 'bb_bbh_lag_19',\n",
              " 'DC_middle_lag_1',\n",
              " 'DC_upper_lag_12',\n",
              " 'bb_bbm_lag_10',\n",
              " 'bb_bbh_lag_20',\n",
              " 'bb_bbh_lag_14',\n",
              " 'bb_bbm_lag_4',\n",
              " 'DC_upper_lag_4',\n",
              " 'bb_bbh_lag_11',\n",
              " 'bb_bbm_lag_11']"
            ]
          },
          "metadata": {},
          "execution_count": 8
        }
      ]
    },
    {
      "cell_type": "code",
      "source": [
        "# Use only the selected features\n",
        "train_data_selected = train_data[selected_features + ['Adj Close']]\n",
        "validation_data_selected = validation_data[selected_features + ['Adj Close']]\n",
        "test_data_selected = test_data[selected_features + ['Adj Close']]"
      ],
      "metadata": {
        "id": "sDq8lYAWNp-I"
      },
      "execution_count": 9,
      "outputs": []
    },
    {
      "cell_type": "markdown",
      "source": [
        "# Step 8: Setup regression model using PyCaret"
      ],
      "metadata": {
        "id": "2o_NrZHlKkHe"
      }
    },
    {
      "cell_type": "code",
      "source": [
        "# Setup regression model using PyCaret for predicting returns\n",
        "regression_setup = setup(\n",
        "    data=train_data_selected,\n",
        "    target='Adj Close',\n",
        "    fold_strategy='timeseries',  # Time series cross-validation\n",
        "    fold=5,                      # Use 5 folds for cross-validation\n",
        "    session_id=42,\n",
        "    use_gpu=False,\n",
        "    data_split_shuffle=False,    # Ensure data is not shuffled\n",
        "    fold_shuffle=False           # Ensure folds are not shuffled\n",
        ")"
      ],
      "metadata": {
        "colab": {
          "base_uri": "https://localhost:8080/",
          "height": 645
        },
        "id": "j8xIPQRvuKMo",
        "outputId": "3819ff8a-f7fb-42a6-9c57-7f5e3126c65c"
      },
      "execution_count": 10,
      "outputs": [
        {
          "output_type": "display_data",
          "data": {
            "text/plain": [
              "<pandas.io.formats.style.Styler at 0x7e4e2fc01db0>"
            ],
            "text/html": [
              "<style type=\"text/css\">\n",
              "#T_bde51_row8_col1 {\n",
              "  background-color: lightgreen;\n",
              "}\n",
              "</style>\n",
              "<table id=\"T_bde51\" class=\"dataframe\">\n",
              "  <thead>\n",
              "    <tr>\n",
              "      <th class=\"blank level0\" >&nbsp;</th>\n",
              "      <th id=\"T_bde51_level0_col0\" class=\"col_heading level0 col0\" >Description</th>\n",
              "      <th id=\"T_bde51_level0_col1\" class=\"col_heading level0 col1\" >Value</th>\n",
              "    </tr>\n",
              "  </thead>\n",
              "  <tbody>\n",
              "    <tr>\n",
              "      <th id=\"T_bde51_level0_row0\" class=\"row_heading level0 row0\" >0</th>\n",
              "      <td id=\"T_bde51_row0_col0\" class=\"data row0 col0\" >Session id</td>\n",
              "      <td id=\"T_bde51_row0_col1\" class=\"data row0 col1\" >42</td>\n",
              "    </tr>\n",
              "    <tr>\n",
              "      <th id=\"T_bde51_level0_row1\" class=\"row_heading level0 row1\" >1</th>\n",
              "      <td id=\"T_bde51_row1_col0\" class=\"data row1 col0\" >Target</td>\n",
              "      <td id=\"T_bde51_row1_col1\" class=\"data row1 col1\" >Adj Close</td>\n",
              "    </tr>\n",
              "    <tr>\n",
              "      <th id=\"T_bde51_level0_row2\" class=\"row_heading level0 row2\" >2</th>\n",
              "      <td id=\"T_bde51_row2_col0\" class=\"data row2 col0\" >Target type</td>\n",
              "      <td id=\"T_bde51_row2_col1\" class=\"data row2 col1\" >Regression</td>\n",
              "    </tr>\n",
              "    <tr>\n",
              "      <th id=\"T_bde51_level0_row3\" class=\"row_heading level0 row3\" >3</th>\n",
              "      <td id=\"T_bde51_row3_col0\" class=\"data row3 col0\" >Original data shape</td>\n",
              "      <td id=\"T_bde51_row3_col1\" class=\"data row3 col1\" >(2464, 30)</td>\n",
              "    </tr>\n",
              "    <tr>\n",
              "      <th id=\"T_bde51_level0_row4\" class=\"row_heading level0 row4\" >4</th>\n",
              "      <td id=\"T_bde51_row4_col0\" class=\"data row4 col0\" >Transformed data shape</td>\n",
              "      <td id=\"T_bde51_row4_col1\" class=\"data row4 col1\" >(2464, 30)</td>\n",
              "    </tr>\n",
              "    <tr>\n",
              "      <th id=\"T_bde51_level0_row5\" class=\"row_heading level0 row5\" >5</th>\n",
              "      <td id=\"T_bde51_row5_col0\" class=\"data row5 col0\" >Transformed train set shape</td>\n",
              "      <td id=\"T_bde51_row5_col1\" class=\"data row5 col1\" >(1724, 30)</td>\n",
              "    </tr>\n",
              "    <tr>\n",
              "      <th id=\"T_bde51_level0_row6\" class=\"row_heading level0 row6\" >6</th>\n",
              "      <td id=\"T_bde51_row6_col0\" class=\"data row6 col0\" >Transformed test set shape</td>\n",
              "      <td id=\"T_bde51_row6_col1\" class=\"data row6 col1\" >(740, 30)</td>\n",
              "    </tr>\n",
              "    <tr>\n",
              "      <th id=\"T_bde51_level0_row7\" class=\"row_heading level0 row7\" >7</th>\n",
              "      <td id=\"T_bde51_row7_col0\" class=\"data row7 col0\" >Numeric features</td>\n",
              "      <td id=\"T_bde51_row7_col1\" class=\"data row7 col1\" >29</td>\n",
              "    </tr>\n",
              "    <tr>\n",
              "      <th id=\"T_bde51_level0_row8\" class=\"row_heading level0 row8\" >8</th>\n",
              "      <td id=\"T_bde51_row8_col0\" class=\"data row8 col0\" >Preprocess</td>\n",
              "      <td id=\"T_bde51_row8_col1\" class=\"data row8 col1\" >True</td>\n",
              "    </tr>\n",
              "    <tr>\n",
              "      <th id=\"T_bde51_level0_row9\" class=\"row_heading level0 row9\" >9</th>\n",
              "      <td id=\"T_bde51_row9_col0\" class=\"data row9 col0\" >Imputation type</td>\n",
              "      <td id=\"T_bde51_row9_col1\" class=\"data row9 col1\" >simple</td>\n",
              "    </tr>\n",
              "    <tr>\n",
              "      <th id=\"T_bde51_level0_row10\" class=\"row_heading level0 row10\" >10</th>\n",
              "      <td id=\"T_bde51_row10_col0\" class=\"data row10 col0\" >Numeric imputation</td>\n",
              "      <td id=\"T_bde51_row10_col1\" class=\"data row10 col1\" >mean</td>\n",
              "    </tr>\n",
              "    <tr>\n",
              "      <th id=\"T_bde51_level0_row11\" class=\"row_heading level0 row11\" >11</th>\n",
              "      <td id=\"T_bde51_row11_col0\" class=\"data row11 col0\" >Categorical imputation</td>\n",
              "      <td id=\"T_bde51_row11_col1\" class=\"data row11 col1\" >mode</td>\n",
              "    </tr>\n",
              "    <tr>\n",
              "      <th id=\"T_bde51_level0_row12\" class=\"row_heading level0 row12\" >12</th>\n",
              "      <td id=\"T_bde51_row12_col0\" class=\"data row12 col0\" >Fold Generator</td>\n",
              "      <td id=\"T_bde51_row12_col1\" class=\"data row12 col1\" >TimeSeriesSplit</td>\n",
              "    </tr>\n",
              "    <tr>\n",
              "      <th id=\"T_bde51_level0_row13\" class=\"row_heading level0 row13\" >13</th>\n",
              "      <td id=\"T_bde51_row13_col0\" class=\"data row13 col0\" >Fold Number</td>\n",
              "      <td id=\"T_bde51_row13_col1\" class=\"data row13 col1\" >5</td>\n",
              "    </tr>\n",
              "    <tr>\n",
              "      <th id=\"T_bde51_level0_row14\" class=\"row_heading level0 row14\" >14</th>\n",
              "      <td id=\"T_bde51_row14_col0\" class=\"data row14 col0\" >CPU Jobs</td>\n",
              "      <td id=\"T_bde51_row14_col1\" class=\"data row14 col1\" >-1</td>\n",
              "    </tr>\n",
              "    <tr>\n",
              "      <th id=\"T_bde51_level0_row15\" class=\"row_heading level0 row15\" >15</th>\n",
              "      <td id=\"T_bde51_row15_col0\" class=\"data row15 col0\" >Use GPU</td>\n",
              "      <td id=\"T_bde51_row15_col1\" class=\"data row15 col1\" >False</td>\n",
              "    </tr>\n",
              "    <tr>\n",
              "      <th id=\"T_bde51_level0_row16\" class=\"row_heading level0 row16\" >16</th>\n",
              "      <td id=\"T_bde51_row16_col0\" class=\"data row16 col0\" >Log Experiment</td>\n",
              "      <td id=\"T_bde51_row16_col1\" class=\"data row16 col1\" >False</td>\n",
              "    </tr>\n",
              "    <tr>\n",
              "      <th id=\"T_bde51_level0_row17\" class=\"row_heading level0 row17\" >17</th>\n",
              "      <td id=\"T_bde51_row17_col0\" class=\"data row17 col0\" >Experiment Name</td>\n",
              "      <td id=\"T_bde51_row17_col1\" class=\"data row17 col1\" >reg-default-name</td>\n",
              "    </tr>\n",
              "    <tr>\n",
              "      <th id=\"T_bde51_level0_row18\" class=\"row_heading level0 row18\" >18</th>\n",
              "      <td id=\"T_bde51_row18_col0\" class=\"data row18 col0\" >USI</td>\n",
              "      <td id=\"T_bde51_row18_col1\" class=\"data row18 col1\" >3c86</td>\n",
              "    </tr>\n",
              "  </tbody>\n",
              "</table>\n"
            ]
          },
          "metadata": {}
        }
      ]
    },
    {
      "cell_type": "markdown",
      "source": [
        "# Step 9: Compare models and select the top 3"
      ],
      "metadata": {
        "id": "WyjqXqb2w_rT"
      }
    },
    {
      "cell_type": "code",
      "source": [
        "# Compare different models\n",
        "best_model = compare_models(n_select=3, sort='RMSE')"
      ],
      "metadata": {
        "colab": {
          "base_uri": "https://localhost:8080/",
          "height": 645,
          "referenced_widgets": [
            "c72b280b7fb948ef96f02ceeb0d0b7cf",
            "2c4e000dd9eb4b629f7f72f224ad238a",
            "c1307f1bb4fa478f85105e8c353a9aba",
            "e5166811a5dc4905bafa5c71118d2fc9",
            "d6fee6a991b84806b91537d26ecf63bc",
            "9c9895da21e947ac8b3a7c43837194d9",
            "5337333cbf014a979d874538b5de0374",
            "dbebe50956c54ff4a59f63b6ffe2b4b3",
            "2701b3afd32f42ccaea9c3c42a58b5b5",
            "9c047c64abec462eb665a8d1aab4a66f",
            "c4f2d6eb1fb144ddaa4a286689c07bf1"
          ]
        },
        "id": "AcUI8uRnKkTx",
        "outputId": "03977e6b-766c-4cb2-bd6f-a23de4c7e4bd"
      },
      "execution_count": 11,
      "outputs": [
        {
          "output_type": "display_data",
          "data": {
            "text/plain": [
              "<IPython.core.display.HTML object>"
            ],
            "text/html": []
          },
          "metadata": {}
        },
        {
          "output_type": "display_data",
          "data": {
            "text/plain": [
              "<pandas.io.formats.style.Styler at 0x7e4e46bbfa30>"
            ],
            "text/html": [
              "<style type=\"text/css\">\n",
              "#T_00c16 th {\n",
              "  text-align: left;\n",
              "}\n",
              "#T_00c16_row0_col0, #T_00c16_row1_col0, #T_00c16_row1_col1, #T_00c16_row1_col2, #T_00c16_row1_col3, #T_00c16_row1_col4, #T_00c16_row1_col5, #T_00c16_row1_col6, #T_00c16_row2_col0, #T_00c16_row2_col1, #T_00c16_row2_col2, #T_00c16_row2_col3, #T_00c16_row2_col4, #T_00c16_row2_col5, #T_00c16_row2_col6, #T_00c16_row3_col0, #T_00c16_row3_col1, #T_00c16_row3_col2, #T_00c16_row3_col3, #T_00c16_row3_col4, #T_00c16_row3_col5, #T_00c16_row3_col6, #T_00c16_row4_col0, #T_00c16_row4_col1, #T_00c16_row4_col2, #T_00c16_row4_col3, #T_00c16_row4_col4, #T_00c16_row4_col5, #T_00c16_row4_col6, #T_00c16_row5_col0, #T_00c16_row5_col1, #T_00c16_row5_col2, #T_00c16_row5_col3, #T_00c16_row5_col4, #T_00c16_row5_col5, #T_00c16_row5_col6, #T_00c16_row6_col0, #T_00c16_row6_col1, #T_00c16_row6_col2, #T_00c16_row6_col3, #T_00c16_row6_col4, #T_00c16_row6_col5, #T_00c16_row6_col6, #T_00c16_row7_col0, #T_00c16_row7_col1, #T_00c16_row7_col2, #T_00c16_row7_col3, #T_00c16_row7_col4, #T_00c16_row7_col5, #T_00c16_row7_col6, #T_00c16_row8_col0, #T_00c16_row8_col1, #T_00c16_row8_col2, #T_00c16_row8_col3, #T_00c16_row8_col4, #T_00c16_row8_col5, #T_00c16_row8_col6, #T_00c16_row9_col0, #T_00c16_row9_col1, #T_00c16_row9_col2, #T_00c16_row9_col3, #T_00c16_row9_col4, #T_00c16_row9_col5, #T_00c16_row9_col6, #T_00c16_row10_col0, #T_00c16_row10_col1, #T_00c16_row10_col2, #T_00c16_row10_col3, #T_00c16_row10_col4, #T_00c16_row10_col5, #T_00c16_row10_col6, #T_00c16_row11_col0, #T_00c16_row11_col1, #T_00c16_row11_col2, #T_00c16_row11_col3, #T_00c16_row11_col4, #T_00c16_row11_col5, #T_00c16_row11_col6, #T_00c16_row12_col0, #T_00c16_row12_col1, #T_00c16_row12_col2, #T_00c16_row12_col3, #T_00c16_row12_col4, #T_00c16_row12_col5, #T_00c16_row12_col6, #T_00c16_row13_col0, #T_00c16_row13_col1, #T_00c16_row13_col2, #T_00c16_row13_col3, #T_00c16_row13_col4, #T_00c16_row13_col5, #T_00c16_row13_col6, #T_00c16_row14_col0, #T_00c16_row14_col1, #T_00c16_row14_col2, #T_00c16_row14_col3, #T_00c16_row14_col4, #T_00c16_row14_col5, #T_00c16_row14_col6, #T_00c16_row15_col0, #T_00c16_row15_col1, #T_00c16_row15_col2, #T_00c16_row15_col3, #T_00c16_row15_col4, #T_00c16_row15_col5, #T_00c16_row15_col6, #T_00c16_row16_col0, #T_00c16_row16_col1, #T_00c16_row16_col2, #T_00c16_row16_col3, #T_00c16_row16_col4, #T_00c16_row16_col5, #T_00c16_row16_col6, #T_00c16_row17_col0, #T_00c16_row17_col1, #T_00c16_row17_col2, #T_00c16_row17_col3, #T_00c16_row17_col4, #T_00c16_row17_col5, #T_00c16_row17_col6, #T_00c16_row18_col0, #T_00c16_row18_col1, #T_00c16_row18_col2, #T_00c16_row18_col3, #T_00c16_row18_col4, #T_00c16_row18_col5, #T_00c16_row18_col6 {\n",
              "  text-align: left;\n",
              "}\n",
              "#T_00c16_row0_col1, #T_00c16_row0_col2, #T_00c16_row0_col3, #T_00c16_row0_col4, #T_00c16_row0_col5, #T_00c16_row0_col6 {\n",
              "  text-align: left;\n",
              "  background-color: yellow;\n",
              "}\n",
              "#T_00c16_row0_col7, #T_00c16_row1_col7, #T_00c16_row2_col7, #T_00c16_row3_col7, #T_00c16_row4_col7, #T_00c16_row5_col7, #T_00c16_row6_col7, #T_00c16_row7_col7, #T_00c16_row8_col7, #T_00c16_row9_col7, #T_00c16_row10_col7, #T_00c16_row11_col7, #T_00c16_row12_col7, #T_00c16_row13_col7, #T_00c16_row14_col7, #T_00c16_row15_col7, #T_00c16_row16_col7, #T_00c16_row18_col7 {\n",
              "  text-align: left;\n",
              "  background-color: lightgrey;\n",
              "}\n",
              "#T_00c16_row17_col7 {\n",
              "  text-align: left;\n",
              "  background-color: yellow;\n",
              "  background-color: lightgrey;\n",
              "}\n",
              "</style>\n",
              "<table id=\"T_00c16\" class=\"dataframe\">\n",
              "  <thead>\n",
              "    <tr>\n",
              "      <th class=\"blank level0\" >&nbsp;</th>\n",
              "      <th id=\"T_00c16_level0_col0\" class=\"col_heading level0 col0\" >Model</th>\n",
              "      <th id=\"T_00c16_level0_col1\" class=\"col_heading level0 col1\" >MAE</th>\n",
              "      <th id=\"T_00c16_level0_col2\" class=\"col_heading level0 col2\" >MSE</th>\n",
              "      <th id=\"T_00c16_level0_col3\" class=\"col_heading level0 col3\" >RMSE</th>\n",
              "      <th id=\"T_00c16_level0_col4\" class=\"col_heading level0 col4\" >R2</th>\n",
              "      <th id=\"T_00c16_level0_col5\" class=\"col_heading level0 col5\" >RMSLE</th>\n",
              "      <th id=\"T_00c16_level0_col6\" class=\"col_heading level0 col6\" >MAPE</th>\n",
              "      <th id=\"T_00c16_level0_col7\" class=\"col_heading level0 col7\" >TT (Sec)</th>\n",
              "    </tr>\n",
              "  </thead>\n",
              "  <tbody>\n",
              "    <tr>\n",
              "      <th id=\"T_00c16_level0_row0\" class=\"row_heading level0 row0\" >lr</th>\n",
              "      <td id=\"T_00c16_row0_col0\" class=\"data row0 col0\" >Linear Regression</td>\n",
              "      <td id=\"T_00c16_row0_col1\" class=\"data row0 col1\" >2.1409</td>\n",
              "      <td id=\"T_00c16_row0_col2\" class=\"data row0 col2\" >10.1974</td>\n",
              "      <td id=\"T_00c16_row0_col3\" class=\"data row0 col3\" >2.9405</td>\n",
              "      <td id=\"T_00c16_row0_col4\" class=\"data row0 col4\" >0.8557</td>\n",
              "      <td id=\"T_00c16_row0_col5\" class=\"data row0 col5\" >0.0155</td>\n",
              "      <td id=\"T_00c16_row0_col6\" class=\"data row0 col6\" >0.0113</td>\n",
              "      <td id=\"T_00c16_row0_col7\" class=\"data row0 col7\" >1.4600</td>\n",
              "    </tr>\n",
              "    <tr>\n",
              "      <th id=\"T_00c16_level0_row1\" class=\"row_heading level0 row1\" >ridge</th>\n",
              "      <td id=\"T_00c16_row1_col0\" class=\"data row1 col0\" >Ridge Regression</td>\n",
              "      <td id=\"T_00c16_row1_col1\" class=\"data row1 col1\" >2.1628</td>\n",
              "      <td id=\"T_00c16_row1_col2\" class=\"data row1 col2\" >10.3234</td>\n",
              "      <td id=\"T_00c16_row1_col3\" class=\"data row1 col3\" >2.9665</td>\n",
              "      <td id=\"T_00c16_row1_col4\" class=\"data row1 col4\" >0.8546</td>\n",
              "      <td id=\"T_00c16_row1_col5\" class=\"data row1 col5\" >0.0156</td>\n",
              "      <td id=\"T_00c16_row1_col6\" class=\"data row1 col6\" >0.0114</td>\n",
              "      <td id=\"T_00c16_row1_col7\" class=\"data row1 col7\" >0.0340</td>\n",
              "    </tr>\n",
              "    <tr>\n",
              "      <th id=\"T_00c16_level0_row2\" class=\"row_heading level0 row2\" >br</th>\n",
              "      <td id=\"T_00c16_row2_col0\" class=\"data row2 col0\" >Bayesian Ridge</td>\n",
              "      <td id=\"T_00c16_row2_col1\" class=\"data row2 col1\" >2.1867</td>\n",
              "      <td id=\"T_00c16_row2_col2\" class=\"data row2 col2\" >10.4834</td>\n",
              "      <td id=\"T_00c16_row2_col3\" class=\"data row2 col3\" >2.9829</td>\n",
              "      <td id=\"T_00c16_row2_col4\" class=\"data row2 col4\" >0.8533</td>\n",
              "      <td id=\"T_00c16_row2_col5\" class=\"data row2 col5\" >0.0157</td>\n",
              "      <td id=\"T_00c16_row2_col6\" class=\"data row2 col6\" >0.0116</td>\n",
              "      <td id=\"T_00c16_row2_col7\" class=\"data row2 col7\" >0.0560</td>\n",
              "    </tr>\n",
              "    <tr>\n",
              "      <th id=\"T_00c16_level0_row3\" class=\"row_heading level0 row3\" >huber</th>\n",
              "      <td id=\"T_00c16_row3_col0\" class=\"data row3 col0\" >Huber Regressor</td>\n",
              "      <td id=\"T_00c16_row3_col1\" class=\"data row3 col1\" >2.3883</td>\n",
              "      <td id=\"T_00c16_row3_col2\" class=\"data row3 col2\" >12.4896</td>\n",
              "      <td id=\"T_00c16_row3_col3\" class=\"data row3 col3\" >3.2438</td>\n",
              "      <td id=\"T_00c16_row3_col4\" class=\"data row3 col4\" >0.8326</td>\n",
              "      <td id=\"T_00c16_row3_col5\" class=\"data row3 col5\" >0.0172</td>\n",
              "      <td id=\"T_00c16_row3_col6\" class=\"data row3 col6\" >0.0128</td>\n",
              "      <td id=\"T_00c16_row3_col7\" class=\"data row3 col7\" >0.0760</td>\n",
              "    </tr>\n",
              "    <tr>\n",
              "      <th id=\"T_00c16_level0_row4\" class=\"row_heading level0 row4\" >en</th>\n",
              "      <td id=\"T_00c16_row4_col0\" class=\"data row4 col0\" >Elastic Net</td>\n",
              "      <td id=\"T_00c16_row4_col1\" class=\"data row4 col1\" >2.6484</td>\n",
              "      <td id=\"T_00c16_row4_col2\" class=\"data row4 col2\" >14.5028</td>\n",
              "      <td id=\"T_00c16_row4_col3\" class=\"data row4 col3\" >3.5572</td>\n",
              "      <td id=\"T_00c16_row4_col4\" class=\"data row4 col4\" >0.8044</td>\n",
              "      <td id=\"T_00c16_row4_col5\" class=\"data row4 col5\" >0.0187</td>\n",
              "      <td id=\"T_00c16_row4_col6\" class=\"data row4 col6\" >0.0140</td>\n",
              "      <td id=\"T_00c16_row4_col7\" class=\"data row4 col7\" >0.0400</td>\n",
              "    </tr>\n",
              "    <tr>\n",
              "      <th id=\"T_00c16_level0_row5\" class=\"row_heading level0 row5\" >lasso</th>\n",
              "      <td id=\"T_00c16_row5_col0\" class=\"data row5 col0\" >Lasso Regression</td>\n",
              "      <td id=\"T_00c16_row5_col1\" class=\"data row5 col1\" >2.7579</td>\n",
              "      <td id=\"T_00c16_row5_col2\" class=\"data row5 col2\" >16.0074</td>\n",
              "      <td id=\"T_00c16_row5_col3\" class=\"data row5 col3\" >3.7363</td>\n",
              "      <td id=\"T_00c16_row5_col4\" class=\"data row5 col4\" >0.7844</td>\n",
              "      <td id=\"T_00c16_row5_col5\" class=\"data row5 col5\" >0.0197</td>\n",
              "      <td id=\"T_00c16_row5_col6\" class=\"data row5 col6\" >0.0146</td>\n",
              "      <td id=\"T_00c16_row5_col7\" class=\"data row5 col7\" >0.0380</td>\n",
              "    </tr>\n",
              "    <tr>\n",
              "      <th id=\"T_00c16_level0_row6\" class=\"row_heading level0 row6\" >llar</th>\n",
              "      <td id=\"T_00c16_row6_col0\" class=\"data row6 col0\" >Lasso Least Angle Regression</td>\n",
              "      <td id=\"T_00c16_row6_col1\" class=\"data row6 col1\" >2.7849</td>\n",
              "      <td id=\"T_00c16_row6_col2\" class=\"data row6 col2\" >16.1983</td>\n",
              "      <td id=\"T_00c16_row6_col3\" class=\"data row6 col3\" >3.7508</td>\n",
              "      <td id=\"T_00c16_row6_col4\" class=\"data row6 col4\" >0.7826</td>\n",
              "      <td id=\"T_00c16_row6_col5\" class=\"data row6 col5\" >0.0197</td>\n",
              "      <td id=\"T_00c16_row6_col6\" class=\"data row6 col6\" >0.0147</td>\n",
              "      <td id=\"T_00c16_row6_col7\" class=\"data row6 col7\" >0.0300</td>\n",
              "    </tr>\n",
              "    <tr>\n",
              "      <th id=\"T_00c16_level0_row7\" class=\"row_heading level0 row7\" >par</th>\n",
              "      <td id=\"T_00c16_row7_col0\" class=\"data row7 col0\" >Passive Aggressive Regressor</td>\n",
              "      <td id=\"T_00c16_row7_col1\" class=\"data row7 col1\" >3.2684</td>\n",
              "      <td id=\"T_00c16_row7_col2\" class=\"data row7 col2\" >20.8988</td>\n",
              "      <td id=\"T_00c16_row7_col3\" class=\"data row7 col3\" >4.2951</td>\n",
              "      <td id=\"T_00c16_row7_col4\" class=\"data row7 col4\" >0.7319</td>\n",
              "      <td id=\"T_00c16_row7_col5\" class=\"data row7 col5\" >0.0225</td>\n",
              "      <td id=\"T_00c16_row7_col6\" class=\"data row7 col6\" >0.0174</td>\n",
              "      <td id=\"T_00c16_row7_col7\" class=\"data row7 col7\" >0.0340</td>\n",
              "    </tr>\n",
              "    <tr>\n",
              "      <th id=\"T_00c16_level0_row8\" class=\"row_heading level0 row8\" >omp</th>\n",
              "      <td id=\"T_00c16_row8_col0\" class=\"data row8 col0\" >Orthogonal Matching Pursuit</td>\n",
              "      <td id=\"T_00c16_row8_col1\" class=\"data row8 col1\" >3.4878</td>\n",
              "      <td id=\"T_00c16_row8_col2\" class=\"data row8 col2\" >20.6962</td>\n",
              "      <td id=\"T_00c16_row8_col3\" class=\"data row8 col3\" >4.3434</td>\n",
              "      <td id=\"T_00c16_row8_col4\" class=\"data row8 col4\" >0.7377</td>\n",
              "      <td id=\"T_00c16_row8_col5\" class=\"data row8 col5\" >0.0228</td>\n",
              "      <td id=\"T_00c16_row8_col6\" class=\"data row8 col6\" >0.0184</td>\n",
              "      <td id=\"T_00c16_row8_col7\" class=\"data row8 col7\" >0.0300</td>\n",
              "    </tr>\n",
              "    <tr>\n",
              "      <th id=\"T_00c16_level0_row9\" class=\"row_heading level0 row9\" >et</th>\n",
              "      <td id=\"T_00c16_row9_col0\" class=\"data row9 col0\" >Extra Trees Regressor</td>\n",
              "      <td id=\"T_00c16_row9_col1\" class=\"data row9 col1\" >12.3775</td>\n",
              "      <td id=\"T_00c16_row9_col2\" class=\"data row9 col2\" >253.3469</td>\n",
              "      <td id=\"T_00c16_row9_col3\" class=\"data row9 col3\" >14.5613</td>\n",
              "      <td id=\"T_00c16_row9_col4\" class=\"data row9 col4\" >-1.4770</td>\n",
              "      <td id=\"T_00c16_row9_col5\" class=\"data row9 col5\" >0.0777</td>\n",
              "      <td id=\"T_00c16_row9_col6\" class=\"data row9 col6\" >0.0634</td>\n",
              "      <td id=\"T_00c16_row9_col7\" class=\"data row9 col7\" >0.6640</td>\n",
              "    </tr>\n",
              "    <tr>\n",
              "      <th id=\"T_00c16_level0_row10\" class=\"row_heading level0 row10\" >knn</th>\n",
              "      <td id=\"T_00c16_row10_col0\" class=\"data row10 col0\" >K Neighbors Regressor</td>\n",
              "      <td id=\"T_00c16_row10_col1\" class=\"data row10 col1\" >12.6167</td>\n",
              "      <td id=\"T_00c16_row10_col2\" class=\"data row10 col2\" >258.0307</td>\n",
              "      <td id=\"T_00c16_row10_col3\" class=\"data row10 col3\" >14.7823</td>\n",
              "      <td id=\"T_00c16_row10_col4\" class=\"data row10 col4\" >-1.6162</td>\n",
              "      <td id=\"T_00c16_row10_col5\" class=\"data row10 col5\" >0.0793</td>\n",
              "      <td id=\"T_00c16_row10_col6\" class=\"data row10 col6\" >0.0650</td>\n",
              "      <td id=\"T_00c16_row10_col7\" class=\"data row10 col7\" >0.0400</td>\n",
              "    </tr>\n",
              "    <tr>\n",
              "      <th id=\"T_00c16_level0_row11\" class=\"row_heading level0 row11\" >xgboost</th>\n",
              "      <td id=\"T_00c16_row11_col0\" class=\"data row11 col0\" >Extreme Gradient Boosting</td>\n",
              "      <td id=\"T_00c16_row11_col1\" class=\"data row11 col1\" >12.7011</td>\n",
              "      <td id=\"T_00c16_row11_col2\" class=\"data row11 col2\" >269.0964</td>\n",
              "      <td id=\"T_00c16_row11_col3\" class=\"data row11 col3\" >14.8896</td>\n",
              "      <td id=\"T_00c16_row11_col4\" class=\"data row11 col4\" >-1.5870</td>\n",
              "      <td id=\"T_00c16_row11_col5\" class=\"data row11 col5\" >0.0795</td>\n",
              "      <td id=\"T_00c16_row11_col6\" class=\"data row11 col6\" >0.0649</td>\n",
              "      <td id=\"T_00c16_row11_col7\" class=\"data row11 col7\" >0.3760</td>\n",
              "    </tr>\n",
              "    <tr>\n",
              "      <th id=\"T_00c16_level0_row12\" class=\"row_heading level0 row12\" >rf</th>\n",
              "      <td id=\"T_00c16_row12_col0\" class=\"data row12 col0\" >Random Forest Regressor</td>\n",
              "      <td id=\"T_00c16_row12_col1\" class=\"data row12 col1\" >12.7118</td>\n",
              "      <td id=\"T_00c16_row12_col2\" class=\"data row12 col2\" >262.4576</td>\n",
              "      <td id=\"T_00c16_row12_col3\" class=\"data row12 col3\" >14.9925</td>\n",
              "      <td id=\"T_00c16_row12_col4\" class=\"data row12 col4\" >-1.6034</td>\n",
              "      <td id=\"T_00c16_row12_col5\" class=\"data row12 col5\" >0.0803</td>\n",
              "      <td id=\"T_00c16_row12_col6\" class=\"data row12 col6\" >0.0653</td>\n",
              "      <td id=\"T_00c16_row12_col7\" class=\"data row12 col7\" >1.7200</td>\n",
              "    </tr>\n",
              "    <tr>\n",
              "      <th id=\"T_00c16_level0_row13\" class=\"row_heading level0 row13\" >gbr</th>\n",
              "      <td id=\"T_00c16_row13_col0\" class=\"data row13 col0\" >Gradient Boosting Regressor</td>\n",
              "      <td id=\"T_00c16_row13_col1\" class=\"data row13 col1\" >13.0663</td>\n",
              "      <td id=\"T_00c16_row13_col2\" class=\"data row13 col2\" >272.5051</td>\n",
              "      <td id=\"T_00c16_row13_col3\" class=\"data row13 col3\" >15.5722</td>\n",
              "      <td id=\"T_00c16_row13_col4\" class=\"data row13 col4\" >-1.7921</td>\n",
              "      <td id=\"T_00c16_row13_col5\" class=\"data row13 col5\" >0.0836</td>\n",
              "      <td id=\"T_00c16_row13_col6\" class=\"data row13 col6\" >0.0672</td>\n",
              "      <td id=\"T_00c16_row13_col7\" class=\"data row13 col7\" >0.7920</td>\n",
              "    </tr>\n",
              "    <tr>\n",
              "      <th id=\"T_00c16_level0_row14\" class=\"row_heading level0 row14\" >lightgbm</th>\n",
              "      <td id=\"T_00c16_row14_col0\" class=\"data row14 col0\" >Light Gradient Boosting Machine</td>\n",
              "      <td id=\"T_00c16_row14_col1\" class=\"data row14 col1\" >13.7784</td>\n",
              "      <td id=\"T_00c16_row14_col2\" class=\"data row14 col2\" >293.0983</td>\n",
              "      <td id=\"T_00c16_row14_col3\" class=\"data row14 col3\" >15.8151</td>\n",
              "      <td id=\"T_00c16_row14_col4\" class=\"data row14 col4\" >-2.0530</td>\n",
              "      <td id=\"T_00c16_row14_col5\" class=\"data row14 col5\" >0.0851</td>\n",
              "      <td id=\"T_00c16_row14_col6\" class=\"data row14 col6\" >0.0709</td>\n",
              "      <td id=\"T_00c16_row14_col7\" class=\"data row14 col7\" >1.0640</td>\n",
              "    </tr>\n",
              "    <tr>\n",
              "      <th id=\"T_00c16_level0_row15\" class=\"row_heading level0 row15\" >ada</th>\n",
              "      <td id=\"T_00c16_row15_col0\" class=\"data row15 col0\" >AdaBoost Regressor</td>\n",
              "      <td id=\"T_00c16_row15_col1\" class=\"data row15 col1\" >13.8059</td>\n",
              "      <td id=\"T_00c16_row15_col2\" class=\"data row15 col2\" >290.3804</td>\n",
              "      <td id=\"T_00c16_row15_col3\" class=\"data row15 col3\" >15.9181</td>\n",
              "      <td id=\"T_00c16_row15_col4\" class=\"data row15 col4\" >-2.0362</td>\n",
              "      <td id=\"T_00c16_row15_col5\" class=\"data row15 col5\" >0.0850</td>\n",
              "      <td id=\"T_00c16_row15_col6\" class=\"data row15 col6\" >0.0706</td>\n",
              "      <td id=\"T_00c16_row15_col7\" class=\"data row15 col7\" >0.2840</td>\n",
              "    </tr>\n",
              "    <tr>\n",
              "      <th id=\"T_00c16_level0_row16\" class=\"row_heading level0 row16\" >dt</th>\n",
              "      <td id=\"T_00c16_row16_col0\" class=\"data row16 col0\" >Decision Tree Regressor</td>\n",
              "      <td id=\"T_00c16_row16_col1\" class=\"data row16 col1\" >13.8030</td>\n",
              "      <td id=\"T_00c16_row16_col2\" class=\"data row16 col2\" >310.7718</td>\n",
              "      <td id=\"T_00c16_row16_col3\" class=\"data row16 col3\" >16.4761</td>\n",
              "      <td id=\"T_00c16_row16_col4\" class=\"data row16 col4\" >-2.1077</td>\n",
              "      <td id=\"T_00c16_row16_col5\" class=\"data row16 col5\" >0.0888</td>\n",
              "      <td id=\"T_00c16_row16_col6\" class=\"data row16 col6\" >0.0709</td>\n",
              "      <td id=\"T_00c16_row16_col7\" class=\"data row16 col7\" >0.0520</td>\n",
              "    </tr>\n",
              "    <tr>\n",
              "      <th id=\"T_00c16_level0_row17\" class=\"row_heading level0 row17\" >dummy</th>\n",
              "      <td id=\"T_00c16_row17_col0\" class=\"data row17 col0\" >Dummy Regressor</td>\n",
              "      <td id=\"T_00c16_row17_col1\" class=\"data row17 col1\" >48.7404</td>\n",
              "      <td id=\"T_00c16_row17_col2\" class=\"data row17 col2\" >2828.8247</td>\n",
              "      <td id=\"T_00c16_row17_col3\" class=\"data row17 col3\" >49.7093</td>\n",
              "      <td id=\"T_00c16_row17_col4\" class=\"data row17 col4\" >-33.5750</td>\n",
              "      <td id=\"T_00c16_row17_col5\" class=\"data row17 col5\" >0.2886</td>\n",
              "      <td id=\"T_00c16_row17_col6\" class=\"data row17 col6\" >0.2455</td>\n",
              "      <td id=\"T_00c16_row17_col7\" class=\"data row17 col7\" >0.0280</td>\n",
              "    </tr>\n",
              "    <tr>\n",
              "      <th id=\"T_00c16_level0_row18\" class=\"row_heading level0 row18\" >lar</th>\n",
              "      <td id=\"T_00c16_row18_col0\" class=\"data row18 col0\" >Least Angle Regression</td>\n",
              "      <td id=\"T_00c16_row18_col1\" class=\"data row18 col1\" >194278.8825</td>\n",
              "      <td id=\"T_00c16_row18_col2\" class=\"data row18 col2\" >339753274218.7375</td>\n",
              "      <td id=\"T_00c16_row18_col3\" class=\"data row18 col3\" >263047.3786</td>\n",
              "      <td id=\"T_00c16_row18_col4\" class=\"data row18 col4\" >-3901382531.0886</td>\n",
              "      <td id=\"T_00c16_row18_col5\" class=\"data row18 col5\" >3.2172</td>\n",
              "      <td id=\"T_00c16_row18_col6\" class=\"data row18 col6\" >802.5776</td>\n",
              "      <td id=\"T_00c16_row18_col7\" class=\"data row18 col7\" >0.0320</td>\n",
              "    </tr>\n",
              "  </tbody>\n",
              "</table>\n"
            ]
          },
          "metadata": {}
        },
        {
          "output_type": "display_data",
          "data": {
            "text/plain": [
              "Processing:   0%|          | 0/83 [00:00<?, ?it/s]"
            ],
            "application/vnd.jupyter.widget-view+json": {
              "version_major": 2,
              "version_minor": 0,
              "model_id": "c72b280b7fb948ef96f02ceeb0d0b7cf"
            }
          },
          "metadata": {
            "application/vnd.jupyter.widget-view+json": {
              "colab": {
                "custom_widget_manager": {
                  "url": "https://ssl.gstatic.com/colaboratory-static/widgets/colab-cdn-widget-manager/2b70e893a8ba7c0f/manager.min.js"
                }
              }
            }
          }
        },
        {
          "output_type": "display_data",
          "data": {
            "text/plain": [
              "<IPython.core.display.HTML object>"
            ],
            "text/html": []
          },
          "metadata": {}
        }
      ]
    },
    {
      "cell_type": "markdown",
      "source": [
        "# Step 10: Evaluate models using the validation set\n",
        "\n",
        "\n",
        "\n",
        "\n",
        "\n"
      ],
      "metadata": {
        "id": "zqp6foWCxGgq"
      }
    },
    {
      "cell_type": "code",
      "source": [
        "# Evaluate the models on the validation set\n",
        "validation_X = validation_data_selected.drop(columns=['Adj Close'])\n",
        "validation_y = validation_data_selected['Adj Close']\n",
        "\n",
        "# List to store evaluation results\n",
        "evaluated_models = []\n",
        "for model in best_model:\n",
        "    # Fine-tune the model using 5-fold cross-validation\n",
        "    tuned_model = tune_model(model, optimize='RMSE', fold=5)\n",
        "\n",
        "    # Make predictions on the validation set using the tuned model\n",
        "    validation_predictions = predict_model(tuned_model, data=validation_X)\n",
        "\n",
        "    # Calculate RMSE and R² on the validation set\n",
        "    val_rmse = np.sqrt(mean_squared_error(validation_y, validation_predictions['prediction_label']))\n",
        "    val_r2 = r2_score(validation_y, validation_predictions['prediction_label'])\n",
        "\n",
        "    print(f\"Validation RMSE for tuned model {model}: {val_rmse}\")\n",
        "    print(f\"Validation R² Score for tuned model {model}: {val_r2}\")\n",
        "\n",
        "    # Append the tuned model and its performance to the list\n",
        "    evaluated_models.append((tuned_model, val_rmse, val_r2))\n",
        "\n",
        "# Sort the evaluated models by RMSE in ascending order\n",
        "evaluated_models.sort(key=lambda x: x[1])\n",
        "\n",
        "# Select top 3 models based on the lowest RMSE\n",
        "top_models = [model[0] for model in evaluated_models[:3]]\n",
        "\n",
        "print(\"Top models successfully fine-tuned and selected.\")"
      ],
      "metadata": {
        "colab": {
          "base_uri": "https://localhost:8080/",
          "height": 1000,
          "referenced_widgets": [
            "a9c9aabb52c249d396d2d0cb62b2ec66",
            "8cddd5f26ab74875a2209a1f82ea908d",
            "285d84ec7d0340739a22717879491a64",
            "dc62380f5a71453295ef9096054db612",
            "ea54b0f8a536485bbdc1c30f86725591",
            "df0fc4b7dec0491b8434ac995997ee92",
            "b45a247810804883a6a861ad903d87c1",
            "e1505e9daf484971855388056639cb83",
            "bc88c11df0234ec4a8bc136e63dd6879",
            "cb5b30b1a9694200aca49021e3f11069",
            "14ad6b2f192d48ebafceac12b9e7daa7",
            "2e7aea56100148aabc98450ada4a5770",
            "d72eb98830c64b77bf873926dfa7b71c",
            "f492e71c00514c22a7f5fa504440a0da",
            "92555d0ccd8649e28e0f32843ee74a4d",
            "8c05be98ae55491d8cf194d8a912f0de",
            "c94dd51024bc43e8ba1fee676f317413",
            "aaafb625fc584763bcf19de316907152",
            "11d7f1a545bf4cc2bfdf0a970f03189e",
            "5720bd7bd754478e91e650f0a3c8e80c",
            "e13c60b658e845fea510666b05fd8690",
            "ae42a13fddc440a39468b72082536677",
            "75ba35545b6047099a2595cf65fc8a6f",
            "1ecafc869cd646a285b32c2f84d5f06d",
            "d0fef2d7613b4a7ea33003e6a1520e85",
            "636a94064a8f4187bbcbae7e96928815",
            "b65240033e3b44d4b53b2c71d018aaec",
            "9727e6c129294391b60ba199e7dfd70c",
            "0f046e83ee334197b40cb21052697fa3",
            "23b3d8fb73664533b90de7ff5f594dff",
            "13ae66be679146ebbbb2733a079661c4",
            "2748d7b453074e78b1f58247e4b80305",
            "4861dce93d6c40d0bed35586458c7526"
          ]
        },
        "id": "Q9ROUuHWzAE6",
        "outputId": "9f1752a2-079d-4253-c92b-5984b7dc2dee"
      },
      "execution_count": 12,
      "outputs": [
        {
          "output_type": "display_data",
          "data": {
            "text/plain": [
              "<IPython.core.display.HTML object>"
            ],
            "text/html": []
          },
          "metadata": {}
        },
        {
          "output_type": "display_data",
          "data": {
            "text/plain": [
              "<pandas.io.formats.style.Styler at 0x7e4e3deed8a0>"
            ],
            "text/html": [
              "<style type=\"text/css\">\n",
              "#T_f2ebb_row5_col0, #T_f2ebb_row5_col1, #T_f2ebb_row5_col2, #T_f2ebb_row5_col3, #T_f2ebb_row5_col4, #T_f2ebb_row5_col5 {\n",
              "  background: yellow;\n",
              "}\n",
              "</style>\n",
              "<table id=\"T_f2ebb\" class=\"dataframe\">\n",
              "  <thead>\n",
              "    <tr>\n",
              "      <th class=\"blank level0\" >&nbsp;</th>\n",
              "      <th id=\"T_f2ebb_level0_col0\" class=\"col_heading level0 col0\" >MAE</th>\n",
              "      <th id=\"T_f2ebb_level0_col1\" class=\"col_heading level0 col1\" >MSE</th>\n",
              "      <th id=\"T_f2ebb_level0_col2\" class=\"col_heading level0 col2\" >RMSE</th>\n",
              "      <th id=\"T_f2ebb_level0_col3\" class=\"col_heading level0 col3\" >R2</th>\n",
              "      <th id=\"T_f2ebb_level0_col4\" class=\"col_heading level0 col4\" >RMSLE</th>\n",
              "      <th id=\"T_f2ebb_level0_col5\" class=\"col_heading level0 col5\" >MAPE</th>\n",
              "    </tr>\n",
              "    <tr>\n",
              "      <th class=\"index_name level0\" >Fold</th>\n",
              "      <th class=\"blank col0\" >&nbsp;</th>\n",
              "      <th class=\"blank col1\" >&nbsp;</th>\n",
              "      <th class=\"blank col2\" >&nbsp;</th>\n",
              "      <th class=\"blank col3\" >&nbsp;</th>\n",
              "      <th class=\"blank col4\" >&nbsp;</th>\n",
              "      <th class=\"blank col5\" >&nbsp;</th>\n",
              "    </tr>\n",
              "  </thead>\n",
              "  <tbody>\n",
              "    <tr>\n",
              "      <th id=\"T_f2ebb_level0_row0\" class=\"row_heading level0 row0\" >0</th>\n",
              "      <td id=\"T_f2ebb_row0_col0\" class=\"data row0 col0\" >1.5256</td>\n",
              "      <td id=\"T_f2ebb_row0_col1\" class=\"data row0 col1\" >3.8861</td>\n",
              "      <td id=\"T_f2ebb_row0_col2\" class=\"data row0 col2\" >1.9713</td>\n",
              "      <td id=\"T_f2ebb_row0_col3\" class=\"data row0 col3\" >0.9552</td>\n",
              "      <td id=\"T_f2ebb_row0_col4\" class=\"data row0 col4\" >0.0136</td>\n",
              "      <td id=\"T_f2ebb_row0_col5\" class=\"data row0 col5\" >0.0106</td>\n",
              "    </tr>\n",
              "    <tr>\n",
              "      <th id=\"T_f2ebb_level0_row1\" class=\"row_heading level0 row1\" >1</th>\n",
              "      <td id=\"T_f2ebb_row1_col0\" class=\"data row1 col0\" >1.9764</td>\n",
              "      <td id=\"T_f2ebb_row1_col1\" class=\"data row1 col1\" >8.3847</td>\n",
              "      <td id=\"T_f2ebb_row1_col2\" class=\"data row1 col2\" >2.8956</td>\n",
              "      <td id=\"T_f2ebb_row1_col3\" class=\"data row1 col3\" >0.7766</td>\n",
              "      <td id=\"T_f2ebb_row1_col4\" class=\"data row1 col4\" >0.0169</td>\n",
              "      <td id=\"T_f2ebb_row1_col5\" class=\"data row1 col5\" >0.0116</td>\n",
              "    </tr>\n",
              "    <tr>\n",
              "      <th id=\"T_f2ebb_level0_row2\" class=\"row_heading level0 row2\" >2</th>\n",
              "      <td id=\"T_f2ebb_row2_col0\" class=\"data row2 col0\" >2.2938</td>\n",
              "      <td id=\"T_f2ebb_row2_col1\" class=\"data row2 col1\" >9.6447</td>\n",
              "      <td id=\"T_f2ebb_row2_col2\" class=\"data row2 col2\" >3.1056</td>\n",
              "      <td id=\"T_f2ebb_row2_col3\" class=\"data row2 col3\" >0.8673</td>\n",
              "      <td id=\"T_f2ebb_row2_col4\" class=\"data row2 col4\" >0.0181</td>\n",
              "      <td id=\"T_f2ebb_row2_col5\" class=\"data row2 col5\" >0.0133</td>\n",
              "    </tr>\n",
              "    <tr>\n",
              "      <th id=\"T_f2ebb_level0_row3\" class=\"row_heading level0 row3\" >3</th>\n",
              "      <td id=\"T_f2ebb_row3_col0\" class=\"data row3 col0\" >1.2433</td>\n",
              "      <td id=\"T_f2ebb_row3_col1\" class=\"data row3 col1\" >2.4720</td>\n",
              "      <td id=\"T_f2ebb_row3_col2\" class=\"data row3 col2\" >1.5723</td>\n",
              "      <td id=\"T_f2ebb_row3_col3\" class=\"data row3 col3\" >0.9846</td>\n",
              "      <td id=\"T_f2ebb_row3_col4\" class=\"data row3 col4\" >0.0075</td>\n",
              "      <td id=\"T_f2ebb_row3_col5\" class=\"data row3 col5\" >0.0059</td>\n",
              "    </tr>\n",
              "    <tr>\n",
              "      <th id=\"T_f2ebb_level0_row4\" class=\"row_heading level0 row4\" >4</th>\n",
              "      <td id=\"T_f2ebb_row4_col0\" class=\"data row4 col0\" >3.6654</td>\n",
              "      <td id=\"T_f2ebb_row4_col1\" class=\"data row4 col1\" >26.5996</td>\n",
              "      <td id=\"T_f2ebb_row4_col2\" class=\"data row4 col2\" >5.1575</td>\n",
              "      <td id=\"T_f2ebb_row4_col3\" class=\"data row4 col3\" >0.6946</td>\n",
              "      <td id=\"T_f2ebb_row4_col4\" class=\"data row4 col4\" >0.0214</td>\n",
              "      <td id=\"T_f2ebb_row4_col5\" class=\"data row4 col5\" >0.0152</td>\n",
              "    </tr>\n",
              "    <tr>\n",
              "      <th id=\"T_f2ebb_level0_row5\" class=\"row_heading level0 row5\" >Mean</th>\n",
              "      <td id=\"T_f2ebb_row5_col0\" class=\"data row5 col0\" >2.1409</td>\n",
              "      <td id=\"T_f2ebb_row5_col1\" class=\"data row5 col1\" >10.1974</td>\n",
              "      <td id=\"T_f2ebb_row5_col2\" class=\"data row5 col2\" >2.9405</td>\n",
              "      <td id=\"T_f2ebb_row5_col3\" class=\"data row5 col3\" >0.8557</td>\n",
              "      <td id=\"T_f2ebb_row5_col4\" class=\"data row5 col4\" >0.0155</td>\n",
              "      <td id=\"T_f2ebb_row5_col5\" class=\"data row5 col5\" >0.0113</td>\n",
              "    </tr>\n",
              "    <tr>\n",
              "      <th id=\"T_f2ebb_level0_row6\" class=\"row_heading level0 row6\" >Std</th>\n",
              "      <td id=\"T_f2ebb_row6_col0\" class=\"data row6 col0\" >0.8436</td>\n",
              "      <td id=\"T_f2ebb_row6_col1\" class=\"data row6 col1\" >8.6271</td>\n",
              "      <td id=\"T_f2ebb_row6_col2\" class=\"data row6 col2\" >1.2454</td>\n",
              "      <td id=\"T_f2ebb_row6_col3\" class=\"data row6 col3\" >0.1085</td>\n",
              "      <td id=\"T_f2ebb_row6_col4\" class=\"data row6 col4\" >0.0047</td>\n",
              "      <td id=\"T_f2ebb_row6_col5\" class=\"data row6 col5\" >0.0031</td>\n",
              "    </tr>\n",
              "  </tbody>\n",
              "</table>\n"
            ]
          },
          "metadata": {}
        },
        {
          "output_type": "display_data",
          "data": {
            "text/plain": [
              "Processing:   0%|          | 0/7 [00:00<?, ?it/s]"
            ],
            "application/vnd.jupyter.widget-view+json": {
              "version_major": 2,
              "version_minor": 0,
              "model_id": "a9c9aabb52c249d396d2d0cb62b2ec66"
            }
          },
          "metadata": {
            "application/vnd.jupyter.widget-view+json": {
              "colab": {
                "custom_widget_manager": {
                  "url": "https://ssl.gstatic.com/colaboratory-static/widgets/colab-cdn-widget-manager/2b70e893a8ba7c0f/manager.min.js"
                }
              }
            }
          }
        },
        {
          "output_type": "stream",
          "name": "stdout",
          "text": [
            "Fitting 5 folds for each of 2 candidates, totalling 10 fits\n"
          ]
        },
        {
          "output_type": "display_data",
          "data": {
            "text/plain": [
              "<IPython.core.display.HTML object>"
            ],
            "text/html": []
          },
          "metadata": {}
        },
        {
          "output_type": "stream",
          "name": "stdout",
          "text": [
            "Original model was better than the tuned model, hence it will be returned. NOTE: The display metrics are for the tuned model (not the original one).\n"
          ]
        },
        {
          "output_type": "display_data",
          "data": {
            "text/plain": [
              "<IPython.core.display.HTML object>"
            ],
            "text/html": []
          },
          "metadata": {}
        },
        {
          "output_type": "stream",
          "name": "stdout",
          "text": [
            "Validation RMSE for tuned model LinearRegression(n_jobs=-1): 10.924066694980064\n",
            "Validation R² Score for tuned model LinearRegression(n_jobs=-1): 0.8314741624491075\n"
          ]
        },
        {
          "output_type": "display_data",
          "data": {
            "text/plain": [
              "<IPython.core.display.HTML object>"
            ],
            "text/html": []
          },
          "metadata": {}
        },
        {
          "output_type": "display_data",
          "data": {
            "text/plain": [
              "<pandas.io.formats.style.Styler at 0x7e4e2fb9edd0>"
            ],
            "text/html": [
              "<style type=\"text/css\">\n",
              "#T_bcb45_row5_col0, #T_bcb45_row5_col1, #T_bcb45_row5_col2, #T_bcb45_row5_col3, #T_bcb45_row5_col4, #T_bcb45_row5_col5 {\n",
              "  background: yellow;\n",
              "}\n",
              "</style>\n",
              "<table id=\"T_bcb45\" class=\"dataframe\">\n",
              "  <thead>\n",
              "    <tr>\n",
              "      <th class=\"blank level0\" >&nbsp;</th>\n",
              "      <th id=\"T_bcb45_level0_col0\" class=\"col_heading level0 col0\" >MAE</th>\n",
              "      <th id=\"T_bcb45_level0_col1\" class=\"col_heading level0 col1\" >MSE</th>\n",
              "      <th id=\"T_bcb45_level0_col2\" class=\"col_heading level0 col2\" >RMSE</th>\n",
              "      <th id=\"T_bcb45_level0_col3\" class=\"col_heading level0 col3\" >R2</th>\n",
              "      <th id=\"T_bcb45_level0_col4\" class=\"col_heading level0 col4\" >RMSLE</th>\n",
              "      <th id=\"T_bcb45_level0_col5\" class=\"col_heading level0 col5\" >MAPE</th>\n",
              "    </tr>\n",
              "    <tr>\n",
              "      <th class=\"index_name level0\" >Fold</th>\n",
              "      <th class=\"blank col0\" >&nbsp;</th>\n",
              "      <th class=\"blank col1\" >&nbsp;</th>\n",
              "      <th class=\"blank col2\" >&nbsp;</th>\n",
              "      <th class=\"blank col3\" >&nbsp;</th>\n",
              "      <th class=\"blank col4\" >&nbsp;</th>\n",
              "      <th class=\"blank col5\" >&nbsp;</th>\n",
              "    </tr>\n",
              "  </thead>\n",
              "  <tbody>\n",
              "    <tr>\n",
              "      <th id=\"T_bcb45_level0_row0\" class=\"row_heading level0 row0\" >0</th>\n",
              "      <td id=\"T_bcb45_row0_col0\" class=\"data row0 col0\" >1.5834</td>\n",
              "      <td id=\"T_bcb45_row0_col1\" class=\"data row0 col1\" >4.2034</td>\n",
              "      <td id=\"T_bcb45_row0_col2\" class=\"data row0 col2\" >2.0502</td>\n",
              "      <td id=\"T_bcb45_row0_col3\" class=\"data row0 col3\" >0.9516</td>\n",
              "      <td id=\"T_bcb45_row0_col4\" class=\"data row0 col4\" >0.0141</td>\n",
              "      <td id=\"T_bcb45_row0_col5\" class=\"data row0 col5\" >0.0110</td>\n",
              "    </tr>\n",
              "    <tr>\n",
              "      <th id=\"T_bcb45_level0_row1\" class=\"row_heading level0 row1\" >1</th>\n",
              "      <td id=\"T_bcb45_row1_col0\" class=\"data row1 col0\" >1.9710</td>\n",
              "      <td id=\"T_bcb45_row1_col1\" class=\"data row1 col1\" >8.1153</td>\n",
              "      <td id=\"T_bcb45_row1_col2\" class=\"data row1 col2\" >2.8487</td>\n",
              "      <td id=\"T_bcb45_row1_col3\" class=\"data row1 col3\" >0.7837</td>\n",
              "      <td id=\"T_bcb45_row1_col4\" class=\"data row1 col4\" >0.0166</td>\n",
              "      <td id=\"T_bcb45_row1_col5\" class=\"data row1 col5\" >0.0116</td>\n",
              "    </tr>\n",
              "    <tr>\n",
              "      <th id=\"T_bcb45_level0_row2\" class=\"row_heading level0 row2\" >2</th>\n",
              "      <td id=\"T_bcb45_row2_col0\" class=\"data row2 col0\" >2.3411</td>\n",
              "      <td id=\"T_bcb45_row2_col1\" class=\"data row2 col1\" >9.8842</td>\n",
              "      <td id=\"T_bcb45_row2_col2\" class=\"data row2 col2\" >3.1439</td>\n",
              "      <td id=\"T_bcb45_row2_col3\" class=\"data row2 col3\" >0.8640</td>\n",
              "      <td id=\"T_bcb45_row2_col4\" class=\"data row2 col4\" >0.0183</td>\n",
              "      <td id=\"T_bcb45_row2_col5\" class=\"data row2 col5\" >0.0135</td>\n",
              "    </tr>\n",
              "    <tr>\n",
              "      <th id=\"T_bcb45_level0_row3\" class=\"row_heading level0 row3\" >3</th>\n",
              "      <td id=\"T_bcb45_row3_col0\" class=\"data row3 col0\" >1.2822</td>\n",
              "      <td id=\"T_bcb45_row3_col1\" class=\"data row3 col1\" >2.5797</td>\n",
              "      <td id=\"T_bcb45_row3_col2\" class=\"data row3 col2\" >1.6062</td>\n",
              "      <td id=\"T_bcb45_row3_col3\" class=\"data row3 col3\" >0.9839</td>\n",
              "      <td id=\"T_bcb45_row3_col4\" class=\"data row3 col4\" >0.0077</td>\n",
              "      <td id=\"T_bcb45_row3_col5\" class=\"data row3 col5\" >0.0061</td>\n",
              "    </tr>\n",
              "    <tr>\n",
              "      <th id=\"T_bcb45_level0_row4\" class=\"row_heading level0 row4\" >4</th>\n",
              "      <td id=\"T_bcb45_row4_col0\" class=\"data row4 col0\" >3.6963</td>\n",
              "      <td id=\"T_bcb45_row4_col1\" class=\"data row4 col1\" >27.1873</td>\n",
              "      <td id=\"T_bcb45_row4_col2\" class=\"data row4 col2\" >5.2141</td>\n",
              "      <td id=\"T_bcb45_row4_col3\" class=\"data row4 col3\" >0.6878</td>\n",
              "      <td id=\"T_bcb45_row4_col4\" class=\"data row4 col4\" >0.0216</td>\n",
              "      <td id=\"T_bcb45_row4_col5\" class=\"data row4 col5\" >0.0153</td>\n",
              "    </tr>\n",
              "    <tr>\n",
              "      <th id=\"T_bcb45_level0_row5\" class=\"row_heading level0 row5\" >Mean</th>\n",
              "      <td id=\"T_bcb45_row5_col0\" class=\"data row5 col0\" >2.1748</td>\n",
              "      <td id=\"T_bcb45_row5_col1\" class=\"data row5 col1\" >10.3940</td>\n",
              "      <td id=\"T_bcb45_row5_col2\" class=\"data row5 col2\" >2.9726</td>\n",
              "      <td id=\"T_bcb45_row5_col3\" class=\"data row5 col3\" >0.8542</td>\n",
              "      <td id=\"T_bcb45_row5_col4\" class=\"data row5 col4\" >0.0157</td>\n",
              "      <td id=\"T_bcb45_row5_col5\" class=\"data row5 col5\" >0.0115</td>\n",
              "    </tr>\n",
              "    <tr>\n",
              "      <th id=\"T_bcb45_level0_row6\" class=\"row_heading level0 row6\" >Std</th>\n",
              "      <td id=\"T_bcb45_row6_col0\" class=\"data row6 col0\" >0.8403</td>\n",
              "      <td id=\"T_bcb45_row6_col1\" class=\"data row6 col1\" >8.7960</td>\n",
              "      <td id=\"T_bcb45_row6_col2\" class=\"data row6 col2\" >1.2480</td>\n",
              "      <td id=\"T_bcb45_row6_col3\" class=\"data row6 col3\" >0.1087</td>\n",
              "      <td id=\"T_bcb45_row6_col4\" class=\"data row6 col4\" >0.0047</td>\n",
              "      <td id=\"T_bcb45_row6_col5\" class=\"data row6 col5\" >0.0031</td>\n",
              "    </tr>\n",
              "  </tbody>\n",
              "</table>\n"
            ]
          },
          "metadata": {}
        },
        {
          "output_type": "display_data",
          "data": {
            "text/plain": [
              "Processing:   0%|          | 0/7 [00:00<?, ?it/s]"
            ],
            "application/vnd.jupyter.widget-view+json": {
              "version_major": 2,
              "version_minor": 0,
              "model_id": "ae42a13fddc440a39468b72082536677"
            }
          },
          "metadata": {
            "application/vnd.jupyter.widget-view+json": {
              "colab": {
                "custom_widget_manager": {
                  "url": "https://ssl.gstatic.com/colaboratory-static/widgets/colab-cdn-widget-manager/2b70e893a8ba7c0f/manager.min.js"
                }
              }
            }
          }
        },
        {
          "output_type": "stream",
          "name": "stdout",
          "text": [
            "Fitting 5 folds for each of 10 candidates, totalling 50 fits\n"
          ]
        },
        {
          "output_type": "display_data",
          "data": {
            "text/plain": [
              "<IPython.core.display.HTML object>"
            ],
            "text/html": []
          },
          "metadata": {}
        },
        {
          "output_type": "stream",
          "name": "stdout",
          "text": [
            "Original model was better than the tuned model, hence it will be returned. NOTE: The display metrics are for the tuned model (not the original one).\n"
          ]
        },
        {
          "output_type": "display_data",
          "data": {
            "text/plain": [
              "<IPython.core.display.HTML object>"
            ],
            "text/html": []
          },
          "metadata": {}
        },
        {
          "output_type": "stream",
          "name": "stdout",
          "text": [
            "Validation RMSE for tuned model Ridge(random_state=42): 10.919529495322513\n",
            "Validation R² Score for tuned model Ridge(random_state=42): 0.8316141243519446\n"
          ]
        },
        {
          "output_type": "display_data",
          "data": {
            "text/plain": [
              "<IPython.core.display.HTML object>"
            ],
            "text/html": []
          },
          "metadata": {}
        },
        {
          "output_type": "display_data",
          "data": {
            "text/plain": [
              "<pandas.io.formats.style.Styler at 0x7e4e3df4da50>"
            ],
            "text/html": [
              "<style type=\"text/css\">\n",
              "#T_7ace5_row5_col0, #T_7ace5_row5_col1, #T_7ace5_row5_col2, #T_7ace5_row5_col3, #T_7ace5_row5_col4, #T_7ace5_row5_col5 {\n",
              "  background: yellow;\n",
              "}\n",
              "</style>\n",
              "<table id=\"T_7ace5\" class=\"dataframe\">\n",
              "  <thead>\n",
              "    <tr>\n",
              "      <th class=\"blank level0\" >&nbsp;</th>\n",
              "      <th id=\"T_7ace5_level0_col0\" class=\"col_heading level0 col0\" >MAE</th>\n",
              "      <th id=\"T_7ace5_level0_col1\" class=\"col_heading level0 col1\" >MSE</th>\n",
              "      <th id=\"T_7ace5_level0_col2\" class=\"col_heading level0 col2\" >RMSE</th>\n",
              "      <th id=\"T_7ace5_level0_col3\" class=\"col_heading level0 col3\" >R2</th>\n",
              "      <th id=\"T_7ace5_level0_col4\" class=\"col_heading level0 col4\" >RMSLE</th>\n",
              "      <th id=\"T_7ace5_level0_col5\" class=\"col_heading level0 col5\" >MAPE</th>\n",
              "    </tr>\n",
              "    <tr>\n",
              "      <th class=\"index_name level0\" >Fold</th>\n",
              "      <th class=\"blank col0\" >&nbsp;</th>\n",
              "      <th class=\"blank col1\" >&nbsp;</th>\n",
              "      <th class=\"blank col2\" >&nbsp;</th>\n",
              "      <th class=\"blank col3\" >&nbsp;</th>\n",
              "      <th class=\"blank col4\" >&nbsp;</th>\n",
              "      <th class=\"blank col5\" >&nbsp;</th>\n",
              "    </tr>\n",
              "  </thead>\n",
              "  <tbody>\n",
              "    <tr>\n",
              "      <th id=\"T_7ace5_level0_row0\" class=\"row_heading level0 row0\" >0</th>\n",
              "      <td id=\"T_7ace5_row0_col0\" class=\"data row0 col0\" >1.5823</td>\n",
              "      <td id=\"T_7ace5_row0_col1\" class=\"data row0 col1\" >4.1973</td>\n",
              "      <td id=\"T_7ace5_row0_col2\" class=\"data row0 col2\" >2.0487</td>\n",
              "      <td id=\"T_7ace5_row0_col3\" class=\"data row0 col3\" >0.9516</td>\n",
              "      <td id=\"T_7ace5_row0_col4\" class=\"data row0 col4\" >0.0141</td>\n",
              "      <td id=\"T_7ace5_row0_col5\" class=\"data row0 col5\" >0.0110</td>\n",
              "    </tr>\n",
              "    <tr>\n",
              "      <th id=\"T_7ace5_level0_row1\" class=\"row_heading level0 row1\" >1</th>\n",
              "      <td id=\"T_7ace5_row1_col0\" class=\"data row1 col0\" >1.9720</td>\n",
              "      <td id=\"T_7ace5_row1_col1\" class=\"data row1 col1\" >8.1034</td>\n",
              "      <td id=\"T_7ace5_row1_col2\" class=\"data row1 col2\" >2.8466</td>\n",
              "      <td id=\"T_7ace5_row1_col3\" class=\"data row1 col3\" >0.7841</td>\n",
              "      <td id=\"T_7ace5_row1_col4\" class=\"data row1 col4\" >0.0166</td>\n",
              "      <td id=\"T_7ace5_row1_col5\" class=\"data row1 col5\" >0.0116</td>\n",
              "    </tr>\n",
              "    <tr>\n",
              "      <th id=\"T_7ace5_level0_row2\" class=\"row_heading level0 row2\" >2</th>\n",
              "      <td id=\"T_7ace5_row2_col0\" class=\"data row2 col0\" >2.3631</td>\n",
              "      <td id=\"T_7ace5_row2_col1\" class=\"data row2 col1\" >9.9672</td>\n",
              "      <td id=\"T_7ace5_row2_col2\" class=\"data row2 col2\" >3.1571</td>\n",
              "      <td id=\"T_7ace5_row2_col3\" class=\"data row2 col3\" >0.8629</td>\n",
              "      <td id=\"T_7ace5_row2_col4\" class=\"data row2 col4\" >0.0184</td>\n",
              "      <td id=\"T_7ace5_row2_col5\" class=\"data row2 col5\" >0.0136</td>\n",
              "    </tr>\n",
              "    <tr>\n",
              "      <th id=\"T_7ace5_level0_row3\" class=\"row_heading level0 row3\" >3</th>\n",
              "      <td id=\"T_7ace5_row3_col0\" class=\"data row3 col0\" >1.2920</td>\n",
              "      <td id=\"T_7ace5_row3_col1\" class=\"data row3 col1\" >2.6043</td>\n",
              "      <td id=\"T_7ace5_row3_col2\" class=\"data row3 col2\" >1.6138</td>\n",
              "      <td id=\"T_7ace5_row3_col3\" class=\"data row3 col3\" >0.9838</td>\n",
              "      <td id=\"T_7ace5_row3_col4\" class=\"data row3 col4\" >0.0077</td>\n",
              "      <td id=\"T_7ace5_row3_col5\" class=\"data row3 col5\" >0.0062</td>\n",
              "    </tr>\n",
              "    <tr>\n",
              "      <th id=\"T_7ace5_level0_row4\" class=\"row_heading level0 row4\" >4</th>\n",
              "      <td id=\"T_7ace5_row4_col0\" class=\"data row4 col0\" >3.7164</td>\n",
              "      <td id=\"T_7ace5_row4_col1\" class=\"data row4 col1\" >27.4951</td>\n",
              "      <td id=\"T_7ace5_row4_col2\" class=\"data row4 col2\" >5.2436</td>\n",
              "      <td id=\"T_7ace5_row4_col3\" class=\"data row4 col3\" >0.6843</td>\n",
              "      <td id=\"T_7ace5_row4_col4\" class=\"data row4 col4\" >0.0218</td>\n",
              "      <td id=\"T_7ace5_row4_col5\" class=\"data row4 col5\" >0.0154</td>\n",
              "    </tr>\n",
              "    <tr>\n",
              "      <th id=\"T_7ace5_level0_row5\" class=\"row_heading level0 row5\" >Mean</th>\n",
              "      <td id=\"T_7ace5_row5_col0\" class=\"data row5 col0\" >2.1852</td>\n",
              "      <td id=\"T_7ace5_row5_col1\" class=\"data row5 col1\" >10.4735</td>\n",
              "      <td id=\"T_7ace5_row5_col2\" class=\"data row5 col2\" >2.9820</td>\n",
              "      <td id=\"T_7ace5_row5_col3\" class=\"data row5 col3\" >0.8533</td>\n",
              "      <td id=\"T_7ace5_row5_col4\" class=\"data row5 col4\" >0.0157</td>\n",
              "      <td id=\"T_7ace5_row5_col5\" class=\"data row5 col5\" >0.0116</td>\n",
              "    </tr>\n",
              "    <tr>\n",
              "      <th id=\"T_7ace5_level0_row6\" class=\"row_heading level0 row6\" >Std</th>\n",
              "      <td id=\"T_7ace5_row6_col0\" class=\"data row6 col0\" >0.8465</td>\n",
              "      <td id=\"T_7ace5_row6_col1\" class=\"data row6 col1\" >8.9098</td>\n",
              "      <td id=\"T_7ace5_row6_col2\" class=\"data row6 col2\" >1.2575</td>\n",
              "      <td id=\"T_7ace5_row6_col3\" class=\"data row6 col3\" >0.1097</td>\n",
              "      <td id=\"T_7ace5_row6_col4\" class=\"data row6 col4\" >0.0047</td>\n",
              "      <td id=\"T_7ace5_row6_col5\" class=\"data row6 col5\" >0.0031</td>\n",
              "    </tr>\n",
              "  </tbody>\n",
              "</table>\n"
            ]
          },
          "metadata": {}
        },
        {
          "output_type": "display_data",
          "data": {
            "text/plain": [
              "Processing:   0%|          | 0/7 [00:00<?, ?it/s]"
            ],
            "application/vnd.jupyter.widget-view+json": {
              "version_major": 2,
              "version_minor": 0,
              "model_id": "4861dce93d6c40d0bed35586458c7526"
            }
          },
          "metadata": {
            "application/vnd.jupyter.widget-view+json": {
              "colab": {
                "custom_widget_manager": {
                  "url": "https://ssl.gstatic.com/colaboratory-static/widgets/colab-cdn-widget-manager/2b70e893a8ba7c0f/manager.min.js"
                }
              }
            }
          }
        },
        {
          "output_type": "stream",
          "name": "stdout",
          "text": [
            "Fitting 5 folds for each of 10 candidates, totalling 50 fits\n"
          ]
        },
        {
          "output_type": "display_data",
          "data": {
            "text/plain": [
              "<IPython.core.display.HTML object>"
            ],
            "text/html": []
          },
          "metadata": {}
        },
        {
          "output_type": "display_data",
          "data": {
            "text/plain": [
              "<IPython.core.display.HTML object>"
            ],
            "text/html": []
          },
          "metadata": {}
        },
        {
          "output_type": "stream",
          "name": "stdout",
          "text": [
            "Validation RMSE for tuned model BayesianRidge(): 11.01231562606929\n",
            "Validation R² Score for tuned model BayesianRidge(): 0.8287403276420744\n",
            "Top models successfully fine-tuned and selected.\n"
          ]
        }
      ]
    },
    {
      "cell_type": "markdown",
      "source": [
        "#Step 11: Test the models and generate error plots"
      ],
      "metadata": {
        "id": "CfOCLhICOYMu"
      }
    },
    {
      "cell_type": "code",
      "source": [
        "# Ensure that the models are finalized before using them on the test set\n",
        "final_models = [finalize_model(model) for model in top_models]\n",
        "\n",
        "# Evaluate the finalized models on the test set\n",
        "for i, model in enumerate(final_models, start=1):\n",
        "    print(f\"Testing Model {i}: {model}\")\n",
        "\n",
        "    # Drop the 'Adj Close' column from test_data_selected before making predictions\n",
        "    test_features = test_data_selected.drop(columns=['Adj Close'])\n",
        "\n",
        "    # Make predictions on the test set using only the features\n",
        "    predictions = predict_model(model, data=test_features)\n",
        "\n",
        "    # Calculate RMSE and R² score on the test set using the actual 'Adj Close' values\n",
        "    rmse = np.sqrt(mean_squared_error(test_data_selected['Adj Close'], predictions['prediction_label']))\n",
        "    r2 = r2_score(test_data_selected['Adj Close'], predictions['prediction_label'])\n",
        "    print(f\"Model {i} - Test RMSE: {rmse}, Test R² Score: {r2}\")\n",
        "\n",
        "    # Plot the prediction error using Yellowbrick (ensure Yellowbrick is installed)\n",
        "    visualizer = PredictionError(model)\n",
        "    visualizer.score(test_features, test_data_selected['Adj Close'])\n",
        "    visualizer.show(outpath=f'prediction_error_model_{i}.png')  # Save the plot as a PNG file\n"
      ],
      "metadata": {
        "colab": {
          "base_uri": "https://localhost:8080/",
          "height": 1000
        },
        "id": "Kg25rxyCOY5t",
        "outputId": "5b1d3b53-6103-411a-ebdb-5352e8e78d8a"
      },
      "execution_count": 13,
      "outputs": [
        {
          "output_type": "stream",
          "name": "stdout",
          "text": [
            "Testing Model 1: Pipeline(memory=Memory(location=None),\n",
            "         steps=[('numerical_imputer',\n",
            "                 TransformerWrapper(include=['bb_bbl_lag_1', 'DC_lower_lag_1',\n",
            "                                             'bb_bbh_lag_1', 'bb_bbm_lag_1',\n",
            "                                             'bb_bbm_lag_3', 'DC_upper_lag_1',\n",
            "                                             'bb_bbm_lag_14', 'bb_bbm_lag_6',\n",
            "                                             'bb_bbm_lag_12', 'bb_bbm_lag_15',\n",
            "                                             'bb_bbm_lag_2', 'bb_bbm_lag_13',\n",
            "                                             'DC_upper_lag_18', 'bb_bbh_lag_17',\n",
            "                                             'bb_bbm_lag_7', 'bb_bbm_lag_17',\n",
            "                                             'bb...\n",
            "                                             'bb_bbh_lag_20', 'bb_bbh_lag_14',\n",
            "                                             'bb_bbm_lag_4', 'DC_upper_lag_4',\n",
            "                                             'bb_bbh_lag_11', 'bb_bbm_lag_11'],\n",
            "                                    transformer=SimpleImputer())),\n",
            "                ('categorical_imputer',\n",
            "                 TransformerWrapper(include=[],\n",
            "                                    transformer=SimpleImputer(strategy='most_frequent'))),\n",
            "                ('clean_column_names',\n",
            "                 TransformerWrapper(transformer=CleanColumnNames())),\n",
            "                ('actual_estimator', Ridge(random_state=42))])\n"
          ]
        },
        {
          "output_type": "display_data",
          "data": {
            "text/plain": [
              "<IPython.core.display.HTML object>"
            ],
            "text/html": []
          },
          "metadata": {}
        },
        {
          "output_type": "stream",
          "name": "stdout",
          "text": [
            "Model 1 - Test RMSE: 6.6969299680700844, Test R² Score: 0.9225548675519282\n",
            "Testing Model 2: Pipeline(memory=Memory(location=None),\n",
            "         steps=[('numerical_imputer',\n",
            "                 TransformerWrapper(include=['bb_bbl_lag_1', 'DC_lower_lag_1',\n",
            "                                             'bb_bbh_lag_1', 'bb_bbm_lag_1',\n",
            "                                             'bb_bbm_lag_3', 'DC_upper_lag_1',\n",
            "                                             'bb_bbm_lag_14', 'bb_bbm_lag_6',\n",
            "                                             'bb_bbm_lag_12', 'bb_bbm_lag_15',\n",
            "                                             'bb_bbm_lag_2', 'bb_bbm_lag_13',\n",
            "                                             'DC_upper_lag_18', 'bb_bbh_lag_17',\n",
            "                                             'bb_bbm_lag_7', 'bb_bbm_lag_17',\n",
            "                                             'bb...\n",
            "                                             'bb_bbh_lag_20', 'bb_bbh_lag_14',\n",
            "                                             'bb_bbm_lag_4', 'DC_upper_lag_4',\n",
            "                                             'bb_bbh_lag_11', 'bb_bbm_lag_11'],\n",
            "                                    transformer=SimpleImputer())),\n",
            "                ('categorical_imputer',\n",
            "                 TransformerWrapper(include=[],\n",
            "                                    transformer=SimpleImputer(strategy='most_frequent'))),\n",
            "                ('clean_column_names',\n",
            "                 TransformerWrapper(transformer=CleanColumnNames())),\n",
            "                ('actual_estimator', LinearRegression(n_jobs=-1))])\n"
          ]
        },
        {
          "output_type": "display_data",
          "data": {
            "text/plain": [
              "<IPython.core.display.HTML object>"
            ],
            "text/html": []
          },
          "metadata": {}
        },
        {
          "output_type": "stream",
          "name": "stdout",
          "text": [
            "Model 2 - Test RMSE: 6.686770813063267, Test R² Score: 0.9227896558335833\n",
            "Testing Model 3: Pipeline(memory=Memory(location=None),\n",
            "         steps=[('numerical_imputer',\n",
            "                 TransformerWrapper(include=['bb_bbl_lag_1', 'DC_lower_lag_1',\n",
            "                                             'bb_bbh_lag_1', 'bb_bbm_lag_1',\n",
            "                                             'bb_bbm_lag_3', 'DC_upper_lag_1',\n",
            "                                             'bb_bbm_lag_14', 'bb_bbm_lag_6',\n",
            "                                             'bb_bbm_lag_12', 'bb_bbm_lag_15',\n",
            "                                             'bb_bbm_lag_2', 'bb_bbm_lag_13',\n",
            "                                             'DC_upper_lag_18', 'bb_bbh_lag_17',\n",
            "                                             'bb_bbm_lag_7', 'bb_bbm_lag_17',\n",
            "                                             'bb...\n",
            "                                             'bb_bbm_lag_4', 'DC_upper_lag_4',\n",
            "                                             'bb_bbh_lag_11', 'bb_bbm_lag_11'],\n",
            "                                    transformer=SimpleImputer())),\n",
            "                ('categorical_imputer',\n",
            "                 TransformerWrapper(include=[],\n",
            "                                    transformer=SimpleImputer(strategy='most_frequent'))),\n",
            "                ('clean_column_names',\n",
            "                 TransformerWrapper(transformer=CleanColumnNames())),\n",
            "                ('actual_estimator',\n",
            "                 BayesianRidge(alpha_1=0.1, alpha_2=0.1, lambda_1=0.0005,\n",
            "                               lambda_2=0.3))])\n"
          ]
        },
        {
          "output_type": "display_data",
          "data": {
            "text/plain": [
              "<IPython.core.display.HTML object>"
            ],
            "text/html": []
          },
          "metadata": {}
        },
        {
          "output_type": "stream",
          "name": "stdout",
          "text": [
            "Model 3 - Test RMSE: 6.7222292627923546, Test R² Score: 0.9219686263573317\n"
          ]
        },
        {
          "output_type": "display_data",
          "data": {
            "text/plain": [
              "<Figure size 800x550 with 1 Axes>"
            ],
            "image/png": "[encoded data removed]"
          },
          "metadata": {}
        }
      ]
    },
    {
      "cell_type": "code",
      "source": [
        "print('Coefficients:', model.coef_)"
      ],
      "metadata": {
        "colab": {
          "base_uri": "https://localhost:8080/"
        },
        "id": "paWYH9nFukNX",
        "outputId": "dd6ef2ca-5385-4353-f423-1fbc9a557edb"
      },
      "execution_count": 14,
      "outputs": [
        {
          "output_type": "stream",
          "name": "stdout",
          "text": [
            "Coefficients: [ 0.8474786  -0.17313944  0.72894347  1.4447887  -0.32114762  0.24243437\n",
            " -0.50121754 -0.0803367  -0.130037    0.08599556 -0.8560973   0.56690705\n",
            " -0.2506593   0.25186092  0.1294405   0.41394475  0.4440372  -4.689603\n",
            "  0.12928864  1.4827693   0.38074154 -0.32392603 -0.11639412 -1.009206\n",
            " -0.14020579 -0.08075295 -0.0224913   2.3176882   0.23309706]\n"
          ]
        }
      ]
    },
    {
      "cell_type": "code",
      "source": [
        "import matplotlib.pyplot as plt\n",
        "\n",
        "# Assuming you have test_data_selected and predictions from the models\n",
        "# We'll also assume 'final_models' contains the finalized models for Ridge, Linear, and Bayesian Ridge\n",
        "\n",
        "# Actual values (from the test set)\n",
        "actual_values = test_data_selected['Adj Close']\n",
        "\n",
        "# Create a plot for actual vs. predicted values for each model\n",
        "plt.figure(figsize=(10, 6))\n",
        "\n",
        "# Plot actual values\n",
        "plt.plot(actual_values.index, actual_values, label='Actual Adj Close', color='blue', linewidth=2)\n",
        "\n",
        "# Plot predicted values for each model\n",
        "for i, model in enumerate(final_models, start=1):\n",
        "    # Make predictions\n",
        "    test_features = test_data_selected.drop(columns=['Adj Close'])\n",
        "    predictions = predict_model(model, data=test_features)['prediction_label']\n",
        "\n",
        "    # Plot predicted values\n",
        "    plt.plot(actual_values.index, predictions, label=f'Model {i} Predicted', linestyle='--')\n",
        "\n",
        "# Customize the plot\n",
        "plt.title('Actual vs Predicted Adj Close - Test Set')\n",
        "plt.xlabel('Date')\n",
        "plt.ylabel('Adj Close')\n",
        "plt.legend()\n",
        "plt.grid(True)\n",
        "\n",
        "# Show the plot\n",
        "plt.show()\n"
      ],
      "metadata": {
        "colab": {
          "base_uri": "https://localhost:8080/",
          "height": 562
        },
        "id": "PlK_gDv8fC73",
        "outputId": "2c313291-58c6-4c89-d950-6d205c169727"
      },
      "execution_count": 18,
      "outputs": [
        {
          "output_type": "display_data",
          "data": {
            "text/plain": [
              "<IPython.core.display.HTML object>"
            ],
            "text/html": []
          },
          "metadata": {}
        },
        {
          "output_type": "display_data",
          "data": {
            "text/plain": [
              "<IPython.core.display.HTML object>"
            ],
            "text/html": []
          },
          "metadata": {}
        },
        {
          "output_type": "display_data",
          "data": {
            "text/plain": [
              "<IPython.core.display.HTML object>"
            ],
            "text/html": []
          },
          "metadata": {}
        },
        {
          "output_type": "display_data",
          "data": {
            "text/plain": [
              "<Figure size 1000x600 with 1 Axes>"
            ],
            "image/png": "[encoded data removed]"
          },
          "metadata": {}
        }
      ]
    }
  ]
}